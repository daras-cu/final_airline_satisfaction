{
  "cells": [
    {
      "cell_type": "markdown",
      "id": "62316ed7-cc46-43ff-ad32-ea6437b7bcac",
      "metadata": {
        "id": "62316ed7-cc46-43ff-ad32-ea6437b7bcac"
      },
      "source": [
        "# Final Project - Airline Passenger Satisfaction\n",
        "\n",
        "Danielle Aras"
      ]
    },
    {
      "cell_type": "markdown",
      "id": "6cf599bb-320f-4b88-8c55-2f20a2b3c2af",
      "metadata": {
        "id": "6cf599bb-320f-4b88-8c55-2f20a2b3c2af"
      },
      "source": [
        "The dataset I chose for my project is titled \"Airline Passenger Satisfaction\", obtained from kaggle.com\n",
        "\n",
        "https://www.kaggle.com/datasets/teejmahal20/airline-passenger-satisfaction\n",
        "\n",
        "This dataset contains anonymous feedback from customer surveys taken after flights. There is basic information about the flight and passenger such as the passenger's gender, age, their reason for travelling, cabin class, departure and arrival delays, and flight distance. It also contains the passengers' ratings of different aspects of the flight, taken on a scale from 0 to 5. There are 14 different ratings, ranging from the amount of legroom to the ease of booking the flight. There is also an overall satisfaction option which categorizes each passenger as either \"satisfied\" or \"neutral or dissatisfied\" with the flight. There are 103904 rows total and 25 columns in the original dataset.\n",
        "\n",
        "My goal is to create an accurate model to predict satisfaction based on a subset of the features of the data, and identify which features have the most direct impact on overall customer satisfaction, and may be used to predict satisfaction. This would be useful to an airline looking to improve its customer experience by identifying the aspects it should focus on improving in order to see the biggest increase in satisfaction. This is a problem of classification, as the data has two discrete \"outcomes\": satisfied or neutral/dissatisfied.\n",
        "\n",
        "To begin, I started by importing the dataset, looking through the columns and values, and cleaning up the data:"
      ]
    },
    {
      "cell_type": "code",
      "execution_count": 1,
      "id": "66ee2917-b612-4bed-a21f-cbd0d4e67fcf",
      "metadata": {
        "id": "66ee2917-b612-4bed-a21f-cbd0d4e67fcf"
      },
      "outputs": [],
      "source": [
        "%matplotlib inline\n",
        "import numpy as np\n",
        "import scipy as sp\n",
        "import scipy.stats as stats\n",
        "import pandas as pd\n",
        "import matplotlib.pyplot as plt\n",
        "import seaborn as sns; sns.set()\n",
        "from sklearn.linear_model import LogisticRegression\n",
        "from sklearn.model_selection import train_test_split\n",
        "from sklearn import metrics, svm\n",
        "from sklearn.preprocessing import StandardScaler"
      ]
    },
    {
      "cell_type": "code",
      "execution_count": 2,
      "id": "36d9607e-2c3a-4d7b-b798-039be74bc967",
      "metadata": {
        "id": "36d9607e-2c3a-4d7b-b798-039be74bc967"
      },
      "outputs": [],
      "source": [
        "df = pd.read_csv('airline_satisfaction.csv')"
      ]
    },
    {
      "cell_type": "markdown",
      "id": "50ca677c-31e0-4e83-9f92-fe423747a2df",
      "metadata": {
        "id": "50ca677c-31e0-4e83-9f92-fe423747a2df"
      },
      "source": [
        "I looked at the description of each column. The data had clearly already been cleaned up a lot as the majority of the columns all had 103,904 rows and it appeared only the \"Arrival Delay in Minutes\" column had some NAN values."
      ]
    },
    {
      "cell_type": "code",
      "execution_count": 3,
      "id": "a0aa3f1e-24a3-4bd1-a686-85bc4dfd06e5",
      "metadata": {
        "colab": {
          "base_uri": "https://localhost:8080/",
          "height": 399
        },
        "id": "a0aa3f1e-24a3-4bd1-a686-85bc4dfd06e5",
        "outputId": "71694e47-6707-4c8f-adb8-ccdc8eed338e"
      },
      "outputs": [
        {
          "output_type": "execute_result",
          "data": {
            "text/plain": [
              "          Unnamed: 0             id            Age  Flight Distance  \\\n",
              "count  103904.000000  103904.000000  103904.000000    103904.000000   \n",
              "mean    51951.500000   64924.210502      39.379706      1189.448375   \n",
              "std     29994.645522   37463.812252      15.114964       997.147281   \n",
              "min         0.000000       1.000000       7.000000        31.000000   \n",
              "25%     25975.750000   32533.750000      27.000000       414.000000   \n",
              "50%     51951.500000   64856.500000      40.000000       843.000000   \n",
              "75%     77927.250000   97368.250000      51.000000      1743.000000   \n",
              "max    103903.000000  129880.000000      85.000000      4983.000000   \n",
              "\n",
              "       Inflight wifi service  Departure/Arrival time convenient  \\\n",
              "count          103904.000000                      103904.000000   \n",
              "mean                2.729683                           3.060296   \n",
              "std                 1.327829                           1.525075   \n",
              "min                 0.000000                           0.000000   \n",
              "25%                 2.000000                           2.000000   \n",
              "50%                 3.000000                           3.000000   \n",
              "75%                 4.000000                           4.000000   \n",
              "max                 5.000000                           5.000000   \n",
              "\n",
              "       Ease of Online booking  Gate location  Food and drink  Online boarding  \\\n",
              "count           103904.000000  103904.000000   103904.000000    103904.000000   \n",
              "mean                 2.756901       2.976883        3.202129         3.250375   \n",
              "std                  1.398929       1.277621        1.329533         1.349509   \n",
              "min                  0.000000       0.000000        0.000000         0.000000   \n",
              "25%                  2.000000       2.000000        2.000000         2.000000   \n",
              "50%                  3.000000       3.000000        3.000000         3.000000   \n",
              "75%                  4.000000       4.000000        4.000000         4.000000   \n",
              "max                  5.000000       5.000000        5.000000         5.000000   \n",
              "\n",
              "        Seat comfort  Inflight entertainment  On-board service  \\\n",
              "count  103904.000000           103904.000000     103904.000000   \n",
              "mean        3.439396                3.358158          3.382363   \n",
              "std         1.319088                1.332991          1.288354   \n",
              "min         0.000000                0.000000          0.000000   \n",
              "25%         2.000000                2.000000          2.000000   \n",
              "50%         4.000000                4.000000          4.000000   \n",
              "75%         5.000000                4.000000          4.000000   \n",
              "max         5.000000                5.000000          5.000000   \n",
              "\n",
              "       Leg room service  Baggage handling  Checkin service  Inflight service  \\\n",
              "count     103904.000000     103904.000000    103904.000000     103904.000000   \n",
              "mean           3.351055          3.631833         3.304290          3.640428   \n",
              "std            1.315605          1.180903         1.265396          1.175663   \n",
              "min            0.000000          1.000000         0.000000          0.000000   \n",
              "25%            2.000000          3.000000         3.000000          3.000000   \n",
              "50%            4.000000          4.000000         3.000000          4.000000   \n",
              "75%            4.000000          5.000000         4.000000          5.000000   \n",
              "max            5.000000          5.000000         5.000000          5.000000   \n",
              "\n",
              "         Cleanliness  Departure Delay in Minutes  Arrival Delay in Minutes  \n",
              "count  103904.000000               103904.000000             103594.000000  \n",
              "mean        3.286351                   14.815618                 15.178678  \n",
              "std         1.312273                   38.230901                 38.698682  \n",
              "min         0.000000                    0.000000                  0.000000  \n",
              "25%         2.000000                    0.000000                  0.000000  \n",
              "50%         3.000000                    0.000000                  0.000000  \n",
              "75%         4.000000                   12.000000                 13.000000  \n",
              "max         5.000000                 1592.000000               1584.000000  "
            ],
            "text/html": [
              "\n",
              "  <div id=\"df-d2a4f589-531d-4677-9cec-d9b8fcc6732c\">\n",
              "    <div class=\"colab-df-container\">\n",
              "      <div>\n",
              "<style scoped>\n",
              "    .dataframe tbody tr th:only-of-type {\n",
              "        vertical-align: middle;\n",
              "    }\n",
              "\n",
              "    .dataframe tbody tr th {\n",
              "        vertical-align: top;\n",
              "    }\n",
              "\n",
              "    .dataframe thead th {\n",
              "        text-align: right;\n",
              "    }\n",
              "</style>\n",
              "<table border=\"1\" class=\"dataframe\">\n",
              "  <thead>\n",
              "    <tr style=\"text-align: right;\">\n",
              "      <th></th>\n",
              "      <th>Unnamed: 0</th>\n",
              "      <th>id</th>\n",
              "      <th>Age</th>\n",
              "      <th>Flight Distance</th>\n",
              "      <th>Inflight wifi service</th>\n",
              "      <th>Departure/Arrival time convenient</th>\n",
              "      <th>Ease of Online booking</th>\n",
              "      <th>Gate location</th>\n",
              "      <th>Food and drink</th>\n",
              "      <th>Online boarding</th>\n",
              "      <th>Seat comfort</th>\n",
              "      <th>Inflight entertainment</th>\n",
              "      <th>On-board service</th>\n",
              "      <th>Leg room service</th>\n",
              "      <th>Baggage handling</th>\n",
              "      <th>Checkin service</th>\n",
              "      <th>Inflight service</th>\n",
              "      <th>Cleanliness</th>\n",
              "      <th>Departure Delay in Minutes</th>\n",
              "      <th>Arrival Delay in Minutes</th>\n",
              "    </tr>\n",
              "  </thead>\n",
              "  <tbody>\n",
              "    <tr>\n",
              "      <th>count</th>\n",
              "      <td>103904.000000</td>\n",
              "      <td>103904.000000</td>\n",
              "      <td>103904.000000</td>\n",
              "      <td>103904.000000</td>\n",
              "      <td>103904.000000</td>\n",
              "      <td>103904.000000</td>\n",
              "      <td>103904.000000</td>\n",
              "      <td>103904.000000</td>\n",
              "      <td>103904.000000</td>\n",
              "      <td>103904.000000</td>\n",
              "      <td>103904.000000</td>\n",
              "      <td>103904.000000</td>\n",
              "      <td>103904.000000</td>\n",
              "      <td>103904.000000</td>\n",
              "      <td>103904.000000</td>\n",
              "      <td>103904.000000</td>\n",
              "      <td>103904.000000</td>\n",
              "      <td>103904.000000</td>\n",
              "      <td>103904.000000</td>\n",
              "      <td>103594.000000</td>\n",
              "    </tr>\n",
              "    <tr>\n",
              "      <th>mean</th>\n",
              "      <td>51951.500000</td>\n",
              "      <td>64924.210502</td>\n",
              "      <td>39.379706</td>\n",
              "      <td>1189.448375</td>\n",
              "      <td>2.729683</td>\n",
              "      <td>3.060296</td>\n",
              "      <td>2.756901</td>\n",
              "      <td>2.976883</td>\n",
              "      <td>3.202129</td>\n",
              "      <td>3.250375</td>\n",
              "      <td>3.439396</td>\n",
              "      <td>3.358158</td>\n",
              "      <td>3.382363</td>\n",
              "      <td>3.351055</td>\n",
              "      <td>3.631833</td>\n",
              "      <td>3.304290</td>\n",
              "      <td>3.640428</td>\n",
              "      <td>3.286351</td>\n",
              "      <td>14.815618</td>\n",
              "      <td>15.178678</td>\n",
              "    </tr>\n",
              "    <tr>\n",
              "      <th>std</th>\n",
              "      <td>29994.645522</td>\n",
              "      <td>37463.812252</td>\n",
              "      <td>15.114964</td>\n",
              "      <td>997.147281</td>\n",
              "      <td>1.327829</td>\n",
              "      <td>1.525075</td>\n",
              "      <td>1.398929</td>\n",
              "      <td>1.277621</td>\n",
              "      <td>1.329533</td>\n",
              "      <td>1.349509</td>\n",
              "      <td>1.319088</td>\n",
              "      <td>1.332991</td>\n",
              "      <td>1.288354</td>\n",
              "      <td>1.315605</td>\n",
              "      <td>1.180903</td>\n",
              "      <td>1.265396</td>\n",
              "      <td>1.175663</td>\n",
              "      <td>1.312273</td>\n",
              "      <td>38.230901</td>\n",
              "      <td>38.698682</td>\n",
              "    </tr>\n",
              "    <tr>\n",
              "      <th>min</th>\n",
              "      <td>0.000000</td>\n",
              "      <td>1.000000</td>\n",
              "      <td>7.000000</td>\n",
              "      <td>31.000000</td>\n",
              "      <td>0.000000</td>\n",
              "      <td>0.000000</td>\n",
              "      <td>0.000000</td>\n",
              "      <td>0.000000</td>\n",
              "      <td>0.000000</td>\n",
              "      <td>0.000000</td>\n",
              "      <td>0.000000</td>\n",
              "      <td>0.000000</td>\n",
              "      <td>0.000000</td>\n",
              "      <td>0.000000</td>\n",
              "      <td>1.000000</td>\n",
              "      <td>0.000000</td>\n",
              "      <td>0.000000</td>\n",
              "      <td>0.000000</td>\n",
              "      <td>0.000000</td>\n",
              "      <td>0.000000</td>\n",
              "    </tr>\n",
              "    <tr>\n",
              "      <th>25%</th>\n",
              "      <td>25975.750000</td>\n",
              "      <td>32533.750000</td>\n",
              "      <td>27.000000</td>\n",
              "      <td>414.000000</td>\n",
              "      <td>2.000000</td>\n",
              "      <td>2.000000</td>\n",
              "      <td>2.000000</td>\n",
              "      <td>2.000000</td>\n",
              "      <td>2.000000</td>\n",
              "      <td>2.000000</td>\n",
              "      <td>2.000000</td>\n",
              "      <td>2.000000</td>\n",
              "      <td>2.000000</td>\n",
              "      <td>2.000000</td>\n",
              "      <td>3.000000</td>\n",
              "      <td>3.000000</td>\n",
              "      <td>3.000000</td>\n",
              "      <td>2.000000</td>\n",
              "      <td>0.000000</td>\n",
              "      <td>0.000000</td>\n",
              "    </tr>\n",
              "    <tr>\n",
              "      <th>50%</th>\n",
              "      <td>51951.500000</td>\n",
              "      <td>64856.500000</td>\n",
              "      <td>40.000000</td>\n",
              "      <td>843.000000</td>\n",
              "      <td>3.000000</td>\n",
              "      <td>3.000000</td>\n",
              "      <td>3.000000</td>\n",
              "      <td>3.000000</td>\n",
              "      <td>3.000000</td>\n",
              "      <td>3.000000</td>\n",
              "      <td>4.000000</td>\n",
              "      <td>4.000000</td>\n",
              "      <td>4.000000</td>\n",
              "      <td>4.000000</td>\n",
              "      <td>4.000000</td>\n",
              "      <td>3.000000</td>\n",
              "      <td>4.000000</td>\n",
              "      <td>3.000000</td>\n",
              "      <td>0.000000</td>\n",
              "      <td>0.000000</td>\n",
              "    </tr>\n",
              "    <tr>\n",
              "      <th>75%</th>\n",
              "      <td>77927.250000</td>\n",
              "      <td>97368.250000</td>\n",
              "      <td>51.000000</td>\n",
              "      <td>1743.000000</td>\n",
              "      <td>4.000000</td>\n",
              "      <td>4.000000</td>\n",
              "      <td>4.000000</td>\n",
              "      <td>4.000000</td>\n",
              "      <td>4.000000</td>\n",
              "      <td>4.000000</td>\n",
              "      <td>5.000000</td>\n",
              "      <td>4.000000</td>\n",
              "      <td>4.000000</td>\n",
              "      <td>4.000000</td>\n",
              "      <td>5.000000</td>\n",
              "      <td>4.000000</td>\n",
              "      <td>5.000000</td>\n",
              "      <td>4.000000</td>\n",
              "      <td>12.000000</td>\n",
              "      <td>13.000000</td>\n",
              "    </tr>\n",
              "    <tr>\n",
              "      <th>max</th>\n",
              "      <td>103903.000000</td>\n",
              "      <td>129880.000000</td>\n",
              "      <td>85.000000</td>\n",
              "      <td>4983.000000</td>\n",
              "      <td>5.000000</td>\n",
              "      <td>5.000000</td>\n",
              "      <td>5.000000</td>\n",
              "      <td>5.000000</td>\n",
              "      <td>5.000000</td>\n",
              "      <td>5.000000</td>\n",
              "      <td>5.000000</td>\n",
              "      <td>5.000000</td>\n",
              "      <td>5.000000</td>\n",
              "      <td>5.000000</td>\n",
              "      <td>5.000000</td>\n",
              "      <td>5.000000</td>\n",
              "      <td>5.000000</td>\n",
              "      <td>5.000000</td>\n",
              "      <td>1592.000000</td>\n",
              "      <td>1584.000000</td>\n",
              "    </tr>\n",
              "  </tbody>\n",
              "</table>\n",
              "</div>\n",
              "      <button class=\"colab-df-convert\" onclick=\"convertToInteractive('df-d2a4f589-531d-4677-9cec-d9b8fcc6732c')\"\n",
              "              title=\"Convert this dataframe to an interactive table.\"\n",
              "              style=\"display:none;\">\n",
              "        \n",
              "  <svg xmlns=\"http://www.w3.org/2000/svg\" height=\"24px\"viewBox=\"0 0 24 24\"\n",
              "       width=\"24px\">\n",
              "    <path d=\"M0 0h24v24H0V0z\" fill=\"none\"/>\n",
              "    <path d=\"M18.56 5.44l.94 2.06.94-2.06 2.06-.94-2.06-.94-.94-2.06-.94 2.06-2.06.94zm-11 1L8.5 8.5l.94-2.06 2.06-.94-2.06-.94L8.5 2.5l-.94 2.06-2.06.94zm10 10l.94 2.06.94-2.06 2.06-.94-2.06-.94-.94-2.06-.94 2.06-2.06.94z\"/><path d=\"M17.41 7.96l-1.37-1.37c-.4-.4-.92-.59-1.43-.59-.52 0-1.04.2-1.43.59L10.3 9.45l-7.72 7.72c-.78.78-.78 2.05 0 2.83L4 21.41c.39.39.9.59 1.41.59.51 0 1.02-.2 1.41-.59l7.78-7.78 2.81-2.81c.8-.78.8-2.07 0-2.86zM5.41 20L4 18.59l7.72-7.72 1.47 1.35L5.41 20z\"/>\n",
              "  </svg>\n",
              "      </button>\n",
              "      \n",
              "  <style>\n",
              "    .colab-df-container {\n",
              "      display:flex;\n",
              "      flex-wrap:wrap;\n",
              "      gap: 12px;\n",
              "    }\n",
              "\n",
              "    .colab-df-convert {\n",
              "      background-color: #E8F0FE;\n",
              "      border: none;\n",
              "      border-radius: 50%;\n",
              "      cursor: pointer;\n",
              "      display: none;\n",
              "      fill: #1967D2;\n",
              "      height: 32px;\n",
              "      padding: 0 0 0 0;\n",
              "      width: 32px;\n",
              "    }\n",
              "\n",
              "    .colab-df-convert:hover {\n",
              "      background-color: #E2EBFA;\n",
              "      box-shadow: 0px 1px 2px rgba(60, 64, 67, 0.3), 0px 1px 3px 1px rgba(60, 64, 67, 0.15);\n",
              "      fill: #174EA6;\n",
              "    }\n",
              "\n",
              "    [theme=dark] .colab-df-convert {\n",
              "      background-color: #3B4455;\n",
              "      fill: #D2E3FC;\n",
              "    }\n",
              "\n",
              "    [theme=dark] .colab-df-convert:hover {\n",
              "      background-color: #434B5C;\n",
              "      box-shadow: 0px 1px 3px 1px rgba(0, 0, 0, 0.15);\n",
              "      filter: drop-shadow(0px 1px 2px rgba(0, 0, 0, 0.3));\n",
              "      fill: #FFFFFF;\n",
              "    }\n",
              "  </style>\n",
              "\n",
              "      <script>\n",
              "        const buttonEl =\n",
              "          document.querySelector('#df-d2a4f589-531d-4677-9cec-d9b8fcc6732c button.colab-df-convert');\n",
              "        buttonEl.style.display =\n",
              "          google.colab.kernel.accessAllowed ? 'block' : 'none';\n",
              "\n",
              "        async function convertToInteractive(key) {\n",
              "          const element = document.querySelector('#df-d2a4f589-531d-4677-9cec-d9b8fcc6732c');\n",
              "          const dataTable =\n",
              "            await google.colab.kernel.invokeFunction('convertToInteractive',\n",
              "                                                     [key], {});\n",
              "          if (!dataTable) return;\n",
              "\n",
              "          const docLinkHtml = 'Like what you see? Visit the ' +\n",
              "            '<a target=\"_blank\" href=https://colab.research.google.com/notebooks/data_table.ipynb>data table notebook</a>'\n",
              "            + ' to learn more about interactive tables.';\n",
              "          element.innerHTML = '';\n",
              "          dataTable['output_type'] = 'display_data';\n",
              "          await google.colab.output.renderOutput(dataTable, element);\n",
              "          const docLink = document.createElement('div');\n",
              "          docLink.innerHTML = docLinkHtml;\n",
              "          element.appendChild(docLink);\n",
              "        }\n",
              "      </script>\n",
              "    </div>\n",
              "  </div>\n",
              "  "
            ]
          },
          "metadata": {},
          "execution_count": 3
        }
      ],
      "source": [
        "df.describe()"
      ]
    },
    {
      "cell_type": "markdown",
      "id": "a3263b3a-dd82-4261-a753-dadbe5210ae4",
      "metadata": {
        "id": "a3263b3a-dd82-4261-a753-dadbe5210ae4"
      },
      "source": [
        "I made the decision to drop the 'Unnamed: 0' column because it was a duplicate of the index. I also filled in the missing values in the arrival delay column with zero as I assumed a missing value would logically mean there was no delay."
      ]
    },
    {
      "cell_type": "code",
      "execution_count": 4,
      "id": "48557db3-a002-4896-84cd-deb5d626e006",
      "metadata": {
        "id": "48557db3-a002-4896-84cd-deb5d626e006"
      },
      "outputs": [],
      "source": [
        "df = df.drop(columns=['Unnamed: 0'])"
      ]
    },
    {
      "cell_type": "code",
      "execution_count": 5,
      "id": "253deb79-3594-49bd-aebb-a42408284169",
      "metadata": {
        "id": "253deb79-3594-49bd-aebb-a42408284169"
      },
      "outputs": [],
      "source": [
        "df['Arrival Delay in Minutes'] = df['Arrival Delay in Minutes'].fillna(0)"
      ]
    },
    {
      "cell_type": "code",
      "execution_count": 6,
      "id": "5dea2987-c206-4304-b062-9d95a0cb303c",
      "metadata": {
        "colab": {
          "base_uri": "https://localhost:8080/"
        },
        "id": "5dea2987-c206-4304-b062-9d95a0cb303c",
        "outputId": "552fd724-f78c-48a0-aca7-375ab59cf37c"
      },
      "outputs": [
        {
          "output_type": "execute_result",
          "data": {
            "text/plain": [
              "id                                     int64\n",
              "Gender                                object\n",
              "Customer Type                         object\n",
              "Age                                    int64\n",
              "Type of Travel                        object\n",
              "Class                                 object\n",
              "Flight Distance                        int64\n",
              "Inflight wifi service                  int64\n",
              "Departure/Arrival time convenient      int64\n",
              "Ease of Online booking                 int64\n",
              "Gate location                          int64\n",
              "Food and drink                         int64\n",
              "Online boarding                        int64\n",
              "Seat comfort                           int64\n",
              "Inflight entertainment                 int64\n",
              "On-board service                       int64\n",
              "Leg room service                       int64\n",
              "Baggage handling                       int64\n",
              "Checkin service                        int64\n",
              "Inflight service                       int64\n",
              "Cleanliness                            int64\n",
              "Departure Delay in Minutes             int64\n",
              "Arrival Delay in Minutes             float64\n",
              "satisfaction                          object\n",
              "dtype: object"
            ]
          },
          "metadata": {},
          "execution_count": 6
        }
      ],
      "source": [
        "df.dtypes"
      ]
    },
    {
      "cell_type": "code",
      "source": [
        "df = df.dropna()"
      ],
      "metadata": {
        "id": "4RDSep5ebNYS"
      },
      "id": "4RDSep5ebNYS",
      "execution_count": 7,
      "outputs": []
    },
    {
      "cell_type": "markdown",
      "id": "248b026b-4933-404b-9be6-e5d306e6cfda",
      "metadata": {
        "id": "248b026b-4933-404b-9be6-e5d306e6cfda"
      },
      "source": [
        "To make the data easier to process, I converted all object columns into numeric or boolean as follows:\n",
        "\n",
        "* Reassign gender to numeric - Male = 1, Female = 0\n",
        "* Reassign class to numeric - Business = 1, Eco Plus = 2, Eco = 3\n",
        "* Reassign satisfaction to boolean\n",
        "* Reassign customer type to numeric - Loyal Customer = 1, Disloyal Customer = 0\n",
        "* Reassign type of travel to numeric - Personal Travel = 1, Business travel = 0\n",
        "\n",
        "I then updated their type to reflect the new values"
      ]
    },
    {
      "cell_type": "code",
      "execution_count": 8,
      "id": "4f47052b-966b-4dca-b046-b45786d968a3",
      "metadata": {
        "id": "4f47052b-966b-4dca-b046-b45786d968a3"
      },
      "outputs": [],
      "source": [
        "df_n = df.replace({'Gender': {'Male' : 1, 'Female' : 0}, 'Class' : {'Business' : 1, 'Eco Plus' : 2, 'Eco' : 3}, 'satisfaction' : {'satisfied' : True, 'neutral or dissatisfied' : False}, 'Customer Type' : {'Loyal Customer' : 1, 'disloyal Customer' : 0}, 'Type of Travel' : {'Personal Travel' : 1, 'Business travel' : 0}})"
      ]
    },
    {
      "cell_type": "code",
      "execution_count": 9,
      "id": "297ab843-c697-416f-a54d-d48c42e452af",
      "metadata": {
        "id": "297ab843-c697-416f-a54d-d48c42e452af"
      },
      "outputs": [],
      "source": [
        "df_n = df_n.astype({'Gender' : 'int32', 'Class' : 'int32', 'satisfaction' : 'boolean', 'Arrival Delay in Minutes' : 'int32', 'Type of Travel' : 'int32'})"
      ]
    },
    {
      "cell_type": "code",
      "execution_count": 10,
      "id": "f3f653a8-5560-4656-82cb-0fba881e55c4",
      "metadata": {
        "colab": {
          "base_uri": "https://localhost:8080/"
        },
        "id": "f3f653a8-5560-4656-82cb-0fba881e55c4",
        "outputId": "0e8aeeea-7f0a-4df2-d23a-159c23ba1dc8"
      },
      "outputs": [
        {
          "output_type": "execute_result",
          "data": {
            "text/plain": [
              "id                                     int64\n",
              "Gender                                 int32\n",
              "Customer Type                          int64\n",
              "Age                                    int64\n",
              "Type of Travel                         int32\n",
              "Class                                  int32\n",
              "Flight Distance                        int64\n",
              "Inflight wifi service                  int64\n",
              "Departure/Arrival time convenient      int64\n",
              "Ease of Online booking                 int64\n",
              "Gate location                          int64\n",
              "Food and drink                         int64\n",
              "Online boarding                        int64\n",
              "Seat comfort                           int64\n",
              "Inflight entertainment                 int64\n",
              "On-board service                       int64\n",
              "Leg room service                       int64\n",
              "Baggage handling                       int64\n",
              "Checkin service                        int64\n",
              "Inflight service                       int64\n",
              "Cleanliness                            int64\n",
              "Departure Delay in Minutes             int64\n",
              "Arrival Delay in Minutes               int32\n",
              "satisfaction                         boolean\n",
              "dtype: object"
            ]
          },
          "metadata": {},
          "execution_count": 10
        }
      ],
      "source": [
        "df_n.dtypes"
      ]
    },
    {
      "cell_type": "markdown",
      "id": "46c44b36-9742-4c6e-9642-779fc1c61cf7",
      "metadata": {
        "id": "46c44b36-9742-4c6e-9642-779fc1c61cf7"
      },
      "source": [
        "I also updated the column names to be more succinct:"
      ]
    },
    {
      "cell_type": "code",
      "execution_count": 11,
      "id": "6aacb1ae-f585-49a3-b014-aec81dd4e8de",
      "metadata": {
        "tags": [],
        "colab": {
          "base_uri": "https://localhost:8080/",
          "height": 487
        },
        "id": "6aacb1ae-f585-49a3-b014-aec81dd4e8de",
        "outputId": "b4152423-54e3-48f6-c27d-ed9cffc08e39"
      },
      "outputs": [
        {
          "output_type": "execute_result",
          "data": {
            "text/plain": [
              "                   id         gender        loyalty            age  \\\n",
              "count   103904.000000  103904.000000  103904.000000  103904.000000   \n",
              "unique            NaN            NaN            NaN            NaN   \n",
              "top               NaN            NaN            NaN            NaN   \n",
              "freq              NaN            NaN            NaN            NaN   \n",
              "mean     64924.210502       0.492541       0.817322      39.379706   \n",
              "std      37463.812252       0.499947       0.386404      15.114964   \n",
              "min          1.000000       0.000000       0.000000       7.000000   \n",
              "25%      32533.750000       0.000000       1.000000      27.000000   \n",
              "50%      64856.500000       0.000000       1.000000      40.000000   \n",
              "75%      97368.250000       1.000000       1.000000      51.000000   \n",
              "max     129880.000000       1.000000       1.000000      85.000000   \n",
              "\n",
              "          travel_type          class       distance           wifi  \\\n",
              "count   103904.000000  103904.000000  103904.000000  103904.000000   \n",
              "unique            NaN            NaN            NaN            NaN   \n",
              "top               NaN            NaN            NaN            NaN   \n",
              "freq              NaN            NaN            NaN            NaN   \n",
              "mean         0.310373       1.971897    1189.448375       2.729683   \n",
              "std          0.462649       0.962858     997.147281       1.327829   \n",
              "min          0.000000       1.000000      31.000000       0.000000   \n",
              "25%          0.000000       1.000000     414.000000       2.000000   \n",
              "50%          0.000000       2.000000     843.000000       3.000000   \n",
              "75%          1.000000       3.000000    1743.000000       4.000000   \n",
              "max          1.000000       3.000000    4983.000000       5.000000   \n",
              "\n",
              "        time_convenience        booking  ...  entertainment     ob_service  \\\n",
              "count      103904.000000  103904.000000  ...  103904.000000  103904.000000   \n",
              "unique               NaN            NaN  ...            NaN            NaN   \n",
              "top                  NaN            NaN  ...            NaN            NaN   \n",
              "freq                 NaN            NaN  ...            NaN            NaN   \n",
              "mean            3.060296       2.756901  ...       3.358158       3.382363   \n",
              "std             1.525075       1.398929  ...       1.332991       1.288354   \n",
              "min             0.000000       0.000000  ...       0.000000       0.000000   \n",
              "25%             2.000000       2.000000  ...       2.000000       2.000000   \n",
              "50%             3.000000       3.000000  ...       4.000000       4.000000   \n",
              "75%             4.000000       4.000000  ...       4.000000       4.000000   \n",
              "max             5.000000       5.000000  ...       5.000000       5.000000   \n",
              "\n",
              "             leg_room        baggage        checkin  inflight_service  \\\n",
              "count   103904.000000  103904.000000  103904.000000     103904.000000   \n",
              "unique            NaN            NaN            NaN               NaN   \n",
              "top               NaN            NaN            NaN               NaN   \n",
              "freq              NaN            NaN            NaN               NaN   \n",
              "mean         3.351055       3.631833       3.304290          3.640428   \n",
              "std          1.315605       1.180903       1.265396          1.175663   \n",
              "min          0.000000       1.000000       0.000000          0.000000   \n",
              "25%          2.000000       3.000000       3.000000          3.000000   \n",
              "50%          4.000000       4.000000       3.000000          4.000000   \n",
              "75%          4.000000       5.000000       4.000000          5.000000   \n",
              "max          5.000000       5.000000       5.000000          5.000000   \n",
              "\n",
              "          cleanliness      dep_delay      arr_delay  satisfaction  \n",
              "count   103904.000000  103904.000000  103904.000000        103904  \n",
              "unique            NaN            NaN            NaN             2  \n",
              "top               NaN            NaN            NaN         False  \n",
              "freq              NaN            NaN            NaN         58879  \n",
              "mean         3.286351      14.815618      15.133392           NaN  \n",
              "std          1.312273      38.230901      38.649776           NaN  \n",
              "min          0.000000       0.000000       0.000000           NaN  \n",
              "25%          2.000000       0.000000       0.000000           NaN  \n",
              "50%          3.000000       0.000000       0.000000           NaN  \n",
              "75%          4.000000      12.000000      13.000000           NaN  \n",
              "max          5.000000    1592.000000    1584.000000           NaN  \n",
              "\n",
              "[11 rows x 24 columns]"
            ],
            "text/html": [
              "\n",
              "  <div id=\"df-57d0adee-60a1-4759-82cc-e5eff742c456\">\n",
              "    <div class=\"colab-df-container\">\n",
              "      <div>\n",
              "<style scoped>\n",
              "    .dataframe tbody tr th:only-of-type {\n",
              "        vertical-align: middle;\n",
              "    }\n",
              "\n",
              "    .dataframe tbody tr th {\n",
              "        vertical-align: top;\n",
              "    }\n",
              "\n",
              "    .dataframe thead th {\n",
              "        text-align: right;\n",
              "    }\n",
              "</style>\n",
              "<table border=\"1\" class=\"dataframe\">\n",
              "  <thead>\n",
              "    <tr style=\"text-align: right;\">\n",
              "      <th></th>\n",
              "      <th>id</th>\n",
              "      <th>gender</th>\n",
              "      <th>loyalty</th>\n",
              "      <th>age</th>\n",
              "      <th>travel_type</th>\n",
              "      <th>class</th>\n",
              "      <th>distance</th>\n",
              "      <th>wifi</th>\n",
              "      <th>time_convenience</th>\n",
              "      <th>booking</th>\n",
              "      <th>...</th>\n",
              "      <th>entertainment</th>\n",
              "      <th>ob_service</th>\n",
              "      <th>leg_room</th>\n",
              "      <th>baggage</th>\n",
              "      <th>checkin</th>\n",
              "      <th>inflight_service</th>\n",
              "      <th>cleanliness</th>\n",
              "      <th>dep_delay</th>\n",
              "      <th>arr_delay</th>\n",
              "      <th>satisfaction</th>\n",
              "    </tr>\n",
              "  </thead>\n",
              "  <tbody>\n",
              "    <tr>\n",
              "      <th>count</th>\n",
              "      <td>103904.000000</td>\n",
              "      <td>103904.000000</td>\n",
              "      <td>103904.000000</td>\n",
              "      <td>103904.000000</td>\n",
              "      <td>103904.000000</td>\n",
              "      <td>103904.000000</td>\n",
              "      <td>103904.000000</td>\n",
              "      <td>103904.000000</td>\n",
              "      <td>103904.000000</td>\n",
              "      <td>103904.000000</td>\n",
              "      <td>...</td>\n",
              "      <td>103904.000000</td>\n",
              "      <td>103904.000000</td>\n",
              "      <td>103904.000000</td>\n",
              "      <td>103904.000000</td>\n",
              "      <td>103904.000000</td>\n",
              "      <td>103904.000000</td>\n",
              "      <td>103904.000000</td>\n",
              "      <td>103904.000000</td>\n",
              "      <td>103904.000000</td>\n",
              "      <td>103904</td>\n",
              "    </tr>\n",
              "    <tr>\n",
              "      <th>unique</th>\n",
              "      <td>NaN</td>\n",
              "      <td>NaN</td>\n",
              "      <td>NaN</td>\n",
              "      <td>NaN</td>\n",
              "      <td>NaN</td>\n",
              "      <td>NaN</td>\n",
              "      <td>NaN</td>\n",
              "      <td>NaN</td>\n",
              "      <td>NaN</td>\n",
              "      <td>NaN</td>\n",
              "      <td>...</td>\n",
              "      <td>NaN</td>\n",
              "      <td>NaN</td>\n",
              "      <td>NaN</td>\n",
              "      <td>NaN</td>\n",
              "      <td>NaN</td>\n",
              "      <td>NaN</td>\n",
              "      <td>NaN</td>\n",
              "      <td>NaN</td>\n",
              "      <td>NaN</td>\n",
              "      <td>2</td>\n",
              "    </tr>\n",
              "    <tr>\n",
              "      <th>top</th>\n",
              "      <td>NaN</td>\n",
              "      <td>NaN</td>\n",
              "      <td>NaN</td>\n",
              "      <td>NaN</td>\n",
              "      <td>NaN</td>\n",
              "      <td>NaN</td>\n",
              "      <td>NaN</td>\n",
              "      <td>NaN</td>\n",
              "      <td>NaN</td>\n",
              "      <td>NaN</td>\n",
              "      <td>...</td>\n",
              "      <td>NaN</td>\n",
              "      <td>NaN</td>\n",
              "      <td>NaN</td>\n",
              "      <td>NaN</td>\n",
              "      <td>NaN</td>\n",
              "      <td>NaN</td>\n",
              "      <td>NaN</td>\n",
              "      <td>NaN</td>\n",
              "      <td>NaN</td>\n",
              "      <td>False</td>\n",
              "    </tr>\n",
              "    <tr>\n",
              "      <th>freq</th>\n",
              "      <td>NaN</td>\n",
              "      <td>NaN</td>\n",
              "      <td>NaN</td>\n",
              "      <td>NaN</td>\n",
              "      <td>NaN</td>\n",
              "      <td>NaN</td>\n",
              "      <td>NaN</td>\n",
              "      <td>NaN</td>\n",
              "      <td>NaN</td>\n",
              "      <td>NaN</td>\n",
              "      <td>...</td>\n",
              "      <td>NaN</td>\n",
              "      <td>NaN</td>\n",
              "      <td>NaN</td>\n",
              "      <td>NaN</td>\n",
              "      <td>NaN</td>\n",
              "      <td>NaN</td>\n",
              "      <td>NaN</td>\n",
              "      <td>NaN</td>\n",
              "      <td>NaN</td>\n",
              "      <td>58879</td>\n",
              "    </tr>\n",
              "    <tr>\n",
              "      <th>mean</th>\n",
              "      <td>64924.210502</td>\n",
              "      <td>0.492541</td>\n",
              "      <td>0.817322</td>\n",
              "      <td>39.379706</td>\n",
              "      <td>0.310373</td>\n",
              "      <td>1.971897</td>\n",
              "      <td>1189.448375</td>\n",
              "      <td>2.729683</td>\n",
              "      <td>3.060296</td>\n",
              "      <td>2.756901</td>\n",
              "      <td>...</td>\n",
              "      <td>3.358158</td>\n",
              "      <td>3.382363</td>\n",
              "      <td>3.351055</td>\n",
              "      <td>3.631833</td>\n",
              "      <td>3.304290</td>\n",
              "      <td>3.640428</td>\n",
              "      <td>3.286351</td>\n",
              "      <td>14.815618</td>\n",
              "      <td>15.133392</td>\n",
              "      <td>NaN</td>\n",
              "    </tr>\n",
              "    <tr>\n",
              "      <th>std</th>\n",
              "      <td>37463.812252</td>\n",
              "      <td>0.499947</td>\n",
              "      <td>0.386404</td>\n",
              "      <td>15.114964</td>\n",
              "      <td>0.462649</td>\n",
              "      <td>0.962858</td>\n",
              "      <td>997.147281</td>\n",
              "      <td>1.327829</td>\n",
              "      <td>1.525075</td>\n",
              "      <td>1.398929</td>\n",
              "      <td>...</td>\n",
              "      <td>1.332991</td>\n",
              "      <td>1.288354</td>\n",
              "      <td>1.315605</td>\n",
              "      <td>1.180903</td>\n",
              "      <td>1.265396</td>\n",
              "      <td>1.175663</td>\n",
              "      <td>1.312273</td>\n",
              "      <td>38.230901</td>\n",
              "      <td>38.649776</td>\n",
              "      <td>NaN</td>\n",
              "    </tr>\n",
              "    <tr>\n",
              "      <th>min</th>\n",
              "      <td>1.000000</td>\n",
              "      <td>0.000000</td>\n",
              "      <td>0.000000</td>\n",
              "      <td>7.000000</td>\n",
              "      <td>0.000000</td>\n",
              "      <td>1.000000</td>\n",
              "      <td>31.000000</td>\n",
              "      <td>0.000000</td>\n",
              "      <td>0.000000</td>\n",
              "      <td>0.000000</td>\n",
              "      <td>...</td>\n",
              "      <td>0.000000</td>\n",
              "      <td>0.000000</td>\n",
              "      <td>0.000000</td>\n",
              "      <td>1.000000</td>\n",
              "      <td>0.000000</td>\n",
              "      <td>0.000000</td>\n",
              "      <td>0.000000</td>\n",
              "      <td>0.000000</td>\n",
              "      <td>0.000000</td>\n",
              "      <td>NaN</td>\n",
              "    </tr>\n",
              "    <tr>\n",
              "      <th>25%</th>\n",
              "      <td>32533.750000</td>\n",
              "      <td>0.000000</td>\n",
              "      <td>1.000000</td>\n",
              "      <td>27.000000</td>\n",
              "      <td>0.000000</td>\n",
              "      <td>1.000000</td>\n",
              "      <td>414.000000</td>\n",
              "      <td>2.000000</td>\n",
              "      <td>2.000000</td>\n",
              "      <td>2.000000</td>\n",
              "      <td>...</td>\n",
              "      <td>2.000000</td>\n",
              "      <td>2.000000</td>\n",
              "      <td>2.000000</td>\n",
              "      <td>3.000000</td>\n",
              "      <td>3.000000</td>\n",
              "      <td>3.000000</td>\n",
              "      <td>2.000000</td>\n",
              "      <td>0.000000</td>\n",
              "      <td>0.000000</td>\n",
              "      <td>NaN</td>\n",
              "    </tr>\n",
              "    <tr>\n",
              "      <th>50%</th>\n",
              "      <td>64856.500000</td>\n",
              "      <td>0.000000</td>\n",
              "      <td>1.000000</td>\n",
              "      <td>40.000000</td>\n",
              "      <td>0.000000</td>\n",
              "      <td>2.000000</td>\n",
              "      <td>843.000000</td>\n",
              "      <td>3.000000</td>\n",
              "      <td>3.000000</td>\n",
              "      <td>3.000000</td>\n",
              "      <td>...</td>\n",
              "      <td>4.000000</td>\n",
              "      <td>4.000000</td>\n",
              "      <td>4.000000</td>\n",
              "      <td>4.000000</td>\n",
              "      <td>3.000000</td>\n",
              "      <td>4.000000</td>\n",
              "      <td>3.000000</td>\n",
              "      <td>0.000000</td>\n",
              "      <td>0.000000</td>\n",
              "      <td>NaN</td>\n",
              "    </tr>\n",
              "    <tr>\n",
              "      <th>75%</th>\n",
              "      <td>97368.250000</td>\n",
              "      <td>1.000000</td>\n",
              "      <td>1.000000</td>\n",
              "      <td>51.000000</td>\n",
              "      <td>1.000000</td>\n",
              "      <td>3.000000</td>\n",
              "      <td>1743.000000</td>\n",
              "      <td>4.000000</td>\n",
              "      <td>4.000000</td>\n",
              "      <td>4.000000</td>\n",
              "      <td>...</td>\n",
              "      <td>4.000000</td>\n",
              "      <td>4.000000</td>\n",
              "      <td>4.000000</td>\n",
              "      <td>5.000000</td>\n",
              "      <td>4.000000</td>\n",
              "      <td>5.000000</td>\n",
              "      <td>4.000000</td>\n",
              "      <td>12.000000</td>\n",
              "      <td>13.000000</td>\n",
              "      <td>NaN</td>\n",
              "    </tr>\n",
              "    <tr>\n",
              "      <th>max</th>\n",
              "      <td>129880.000000</td>\n",
              "      <td>1.000000</td>\n",
              "      <td>1.000000</td>\n",
              "      <td>85.000000</td>\n",
              "      <td>1.000000</td>\n",
              "      <td>3.000000</td>\n",
              "      <td>4983.000000</td>\n",
              "      <td>5.000000</td>\n",
              "      <td>5.000000</td>\n",
              "      <td>5.000000</td>\n",
              "      <td>...</td>\n",
              "      <td>5.000000</td>\n",
              "      <td>5.000000</td>\n",
              "      <td>5.000000</td>\n",
              "      <td>5.000000</td>\n",
              "      <td>5.000000</td>\n",
              "      <td>5.000000</td>\n",
              "      <td>5.000000</td>\n",
              "      <td>1592.000000</td>\n",
              "      <td>1584.000000</td>\n",
              "      <td>NaN</td>\n",
              "    </tr>\n",
              "  </tbody>\n",
              "</table>\n",
              "<p>11 rows × 24 columns</p>\n",
              "</div>\n",
              "      <button class=\"colab-df-convert\" onclick=\"convertToInteractive('df-57d0adee-60a1-4759-82cc-e5eff742c456')\"\n",
              "              title=\"Convert this dataframe to an interactive table.\"\n",
              "              style=\"display:none;\">\n",
              "        \n",
              "  <svg xmlns=\"http://www.w3.org/2000/svg\" height=\"24px\"viewBox=\"0 0 24 24\"\n",
              "       width=\"24px\">\n",
              "    <path d=\"M0 0h24v24H0V0z\" fill=\"none\"/>\n",
              "    <path d=\"M18.56 5.44l.94 2.06.94-2.06 2.06-.94-2.06-.94-.94-2.06-.94 2.06-2.06.94zm-11 1L8.5 8.5l.94-2.06 2.06-.94-2.06-.94L8.5 2.5l-.94 2.06-2.06.94zm10 10l.94 2.06.94-2.06 2.06-.94-2.06-.94-.94-2.06-.94 2.06-2.06.94z\"/><path d=\"M17.41 7.96l-1.37-1.37c-.4-.4-.92-.59-1.43-.59-.52 0-1.04.2-1.43.59L10.3 9.45l-7.72 7.72c-.78.78-.78 2.05 0 2.83L4 21.41c.39.39.9.59 1.41.59.51 0 1.02-.2 1.41-.59l7.78-7.78 2.81-2.81c.8-.78.8-2.07 0-2.86zM5.41 20L4 18.59l7.72-7.72 1.47 1.35L5.41 20z\"/>\n",
              "  </svg>\n",
              "      </button>\n",
              "      \n",
              "  <style>\n",
              "    .colab-df-container {\n",
              "      display:flex;\n",
              "      flex-wrap:wrap;\n",
              "      gap: 12px;\n",
              "    }\n",
              "\n",
              "    .colab-df-convert {\n",
              "      background-color: #E8F0FE;\n",
              "      border: none;\n",
              "      border-radius: 50%;\n",
              "      cursor: pointer;\n",
              "      display: none;\n",
              "      fill: #1967D2;\n",
              "      height: 32px;\n",
              "      padding: 0 0 0 0;\n",
              "      width: 32px;\n",
              "    }\n",
              "\n",
              "    .colab-df-convert:hover {\n",
              "      background-color: #E2EBFA;\n",
              "      box-shadow: 0px 1px 2px rgba(60, 64, 67, 0.3), 0px 1px 3px 1px rgba(60, 64, 67, 0.15);\n",
              "      fill: #174EA6;\n",
              "    }\n",
              "\n",
              "    [theme=dark] .colab-df-convert {\n",
              "      background-color: #3B4455;\n",
              "      fill: #D2E3FC;\n",
              "    }\n",
              "\n",
              "    [theme=dark] .colab-df-convert:hover {\n",
              "      background-color: #434B5C;\n",
              "      box-shadow: 0px 1px 3px 1px rgba(0, 0, 0, 0.15);\n",
              "      filter: drop-shadow(0px 1px 2px rgba(0, 0, 0, 0.3));\n",
              "      fill: #FFFFFF;\n",
              "    }\n",
              "  </style>\n",
              "\n",
              "      <script>\n",
              "        const buttonEl =\n",
              "          document.querySelector('#df-57d0adee-60a1-4759-82cc-e5eff742c456 button.colab-df-convert');\n",
              "        buttonEl.style.display =\n",
              "          google.colab.kernel.accessAllowed ? 'block' : 'none';\n",
              "\n",
              "        async function convertToInteractive(key) {\n",
              "          const element = document.querySelector('#df-57d0adee-60a1-4759-82cc-e5eff742c456');\n",
              "          const dataTable =\n",
              "            await google.colab.kernel.invokeFunction('convertToInteractive',\n",
              "                                                     [key], {});\n",
              "          if (!dataTable) return;\n",
              "\n",
              "          const docLinkHtml = 'Like what you see? Visit the ' +\n",
              "            '<a target=\"_blank\" href=https://colab.research.google.com/notebooks/data_table.ipynb>data table notebook</a>'\n",
              "            + ' to learn more about interactive tables.';\n",
              "          element.innerHTML = '';\n",
              "          dataTable['output_type'] = 'display_data';\n",
              "          await google.colab.output.renderOutput(dataTable, element);\n",
              "          const docLink = document.createElement('div');\n",
              "          docLink.innerHTML = docLinkHtml;\n",
              "          element.appendChild(docLink);\n",
              "        }\n",
              "      </script>\n",
              "    </div>\n",
              "  </div>\n",
              "  "
            ]
          },
          "metadata": {},
          "execution_count": 11
        }
      ],
      "source": [
        "df_n.columns = [\"id\", \"gender\", \"loyalty\", \"age\", \"travel_type\", \"class\", \"distance\", \"wifi\", \"time_convenience\", \"booking\", \"gate\", \"food\", \"ol_boarding\", \"seat\", \"entertainment\", \"ob_service\", \"leg_room\", \"baggage\", \"checkin\", \"inflight_service\", \"cleanliness\", \"dep_delay\", \"arr_delay\", \"satisfaction\"]\n",
        "df_n.describe()"
      ]
    },
    {
      "cell_type": "markdown",
      "id": "a968ee6c-9f28-4a4b-bc47-9b4affc78b4e",
      "metadata": {
        "id": "a968ee6c-9f28-4a4b-bc47-9b4affc78b4e"
      },
      "source": [
        "### Rated Columns ###\n",
        "\n",
        "Now that I had relatively clean data, I started to look at the difference between how satisfied and unsatisfied customers rated each aspect of their experience. I used boxplots to get a quick visual of the distribution of ratings:"
      ]
    },
    {
      "cell_type": "code",
      "execution_count": 12,
      "id": "65a8f11a-ca97-4506-9d06-0c75b505ceee",
      "metadata": {
        "colab": {
          "base_uri": "https://localhost:8080/",
          "height": 1000
        },
        "id": "65a8f11a-ca97-4506-9d06-0c75b505ceee",
        "outputId": "e1d08e62-edb2-43ce-c098-913de4721d2e"
      },
      "outputs": [
        {
          "output_type": "stream",
          "name": "stderr",
          "text": [
            "/usr/local/lib/python3.7/dist-packages/matplotlib/cbook/__init__.py:1376: VisibleDeprecationWarning: Creating an ndarray from ragged nested sequences (which is a list-or-tuple of lists-or-tuples-or ndarrays with different lengths or shapes) is deprecated. If you meant to do this, you must specify 'dtype=object' when creating the ndarray.\n",
            "  X = np.atleast_1d(X.T if isinstance(X, np.ndarray) else np.asarray(X))\n",
            "/usr/local/lib/python3.7/dist-packages/matplotlib/cbook/__init__.py:1376: VisibleDeprecationWarning: Creating an ndarray from ragged nested sequences (which is a list-or-tuple of lists-or-tuples-or ndarrays with different lengths or shapes) is deprecated. If you meant to do this, you must specify 'dtype=object' when creating the ndarray.\n",
            "  X = np.atleast_1d(X.T if isinstance(X, np.ndarray) else np.asarray(X))\n",
            "/usr/local/lib/python3.7/dist-packages/matplotlib/cbook/__init__.py:1376: VisibleDeprecationWarning: Creating an ndarray from ragged nested sequences (which is a list-or-tuple of lists-or-tuples-or ndarrays with different lengths or shapes) is deprecated. If you meant to do this, you must specify 'dtype=object' when creating the ndarray.\n",
            "  X = np.atleast_1d(X.T if isinstance(X, np.ndarray) else np.asarray(X))\n",
            "/usr/local/lib/python3.7/dist-packages/matplotlib/cbook/__init__.py:1376: VisibleDeprecationWarning: Creating an ndarray from ragged nested sequences (which is a list-or-tuple of lists-or-tuples-or ndarrays with different lengths or shapes) is deprecated. If you meant to do this, you must specify 'dtype=object' when creating the ndarray.\n",
            "  X = np.atleast_1d(X.T if isinstance(X, np.ndarray) else np.asarray(X))\n",
            "/usr/local/lib/python3.7/dist-packages/matplotlib/cbook/__init__.py:1376: VisibleDeprecationWarning: Creating an ndarray from ragged nested sequences (which is a list-or-tuple of lists-or-tuples-or ndarrays with different lengths or shapes) is deprecated. If you meant to do this, you must specify 'dtype=object' when creating the ndarray.\n",
            "  X = np.atleast_1d(X.T if isinstance(X, np.ndarray) else np.asarray(X))\n",
            "/usr/local/lib/python3.7/dist-packages/matplotlib/cbook/__init__.py:1376: VisibleDeprecationWarning: Creating an ndarray from ragged nested sequences (which is a list-or-tuple of lists-or-tuples-or ndarrays with different lengths or shapes) is deprecated. If you meant to do this, you must specify 'dtype=object' when creating the ndarray.\n",
            "  X = np.atleast_1d(X.T if isinstance(X, np.ndarray) else np.asarray(X))\n",
            "/usr/local/lib/python3.7/dist-packages/matplotlib/cbook/__init__.py:1376: VisibleDeprecationWarning: Creating an ndarray from ragged nested sequences (which is a list-or-tuple of lists-or-tuples-or ndarrays with different lengths or shapes) is deprecated. If you meant to do this, you must specify 'dtype=object' when creating the ndarray.\n",
            "  X = np.atleast_1d(X.T if isinstance(X, np.ndarray) else np.asarray(X))\n",
            "/usr/local/lib/python3.7/dist-packages/matplotlib/cbook/__init__.py:1376: VisibleDeprecationWarning: Creating an ndarray from ragged nested sequences (which is a list-or-tuple of lists-or-tuples-or ndarrays with different lengths or shapes) is deprecated. If you meant to do this, you must specify 'dtype=object' when creating the ndarray.\n",
            "  X = np.atleast_1d(X.T if isinstance(X, np.ndarray) else np.asarray(X))\n",
            "/usr/local/lib/python3.7/dist-packages/matplotlib/cbook/__init__.py:1376: VisibleDeprecationWarning: Creating an ndarray from ragged nested sequences (which is a list-or-tuple of lists-or-tuples-or ndarrays with different lengths or shapes) is deprecated. If you meant to do this, you must specify 'dtype=object' when creating the ndarray.\n",
            "  X = np.atleast_1d(X.T if isinstance(X, np.ndarray) else np.asarray(X))\n",
            "/usr/local/lib/python3.7/dist-packages/matplotlib/cbook/__init__.py:1376: VisibleDeprecationWarning: Creating an ndarray from ragged nested sequences (which is a list-or-tuple of lists-or-tuples-or ndarrays with different lengths or shapes) is deprecated. If you meant to do this, you must specify 'dtype=object' when creating the ndarray.\n",
            "  X = np.atleast_1d(X.T if isinstance(X, np.ndarray) else np.asarray(X))\n",
            "/usr/local/lib/python3.7/dist-packages/matplotlib/cbook/__init__.py:1376: VisibleDeprecationWarning: Creating an ndarray from ragged nested sequences (which is a list-or-tuple of lists-or-tuples-or ndarrays with different lengths or shapes) is deprecated. If you meant to do this, you must specify 'dtype=object' when creating the ndarray.\n",
            "  X = np.atleast_1d(X.T if isinstance(X, np.ndarray) else np.asarray(X))\n",
            "/usr/local/lib/python3.7/dist-packages/matplotlib/cbook/__init__.py:1376: VisibleDeprecationWarning: Creating an ndarray from ragged nested sequences (which is a list-or-tuple of lists-or-tuples-or ndarrays with different lengths or shapes) is deprecated. If you meant to do this, you must specify 'dtype=object' when creating the ndarray.\n",
            "  X = np.atleast_1d(X.T if isinstance(X, np.ndarray) else np.asarray(X))\n",
            "/usr/local/lib/python3.7/dist-packages/matplotlib/cbook/__init__.py:1376: VisibleDeprecationWarning: Creating an ndarray from ragged nested sequences (which is a list-or-tuple of lists-or-tuples-or ndarrays with different lengths or shapes) is deprecated. If you meant to do this, you must specify 'dtype=object' when creating the ndarray.\n",
            "  X = np.atleast_1d(X.T if isinstance(X, np.ndarray) else np.asarray(X))\n",
            "/usr/local/lib/python3.7/dist-packages/matplotlib/cbook/__init__.py:1376: VisibleDeprecationWarning: Creating an ndarray from ragged nested sequences (which is a list-or-tuple of lists-or-tuples-or ndarrays with different lengths or shapes) is deprecated. If you meant to do this, you must specify 'dtype=object' when creating the ndarray.\n",
            "  X = np.atleast_1d(X.T if isinstance(X, np.ndarray) else np.asarray(X))\n"
          ]
        },
        {
          "output_type": "display_data",
          "data": {
            "text/plain": [
              "<Figure size 864x2880 with 14 Axes>"
            ],
            "image/png": "[encoded data removed]"
          },
          "metadata": {
            "needs_background": "light"
          }
        }
      ],
      "source": [
        "df_rated = df_n.filter([\"wifi\", \"time_convenience\", \"booking\", \"gate\", \"food\", \"ol_boarding\", \"seat\", \"entertainment\", \"ob_service\", \"leg_room\", \"baggage\", \"checkin\", \"inflight_service\", \"cleanliness\", \"satisfaction\"])\n",
        "\n",
        "fig, axes = plt.subplots(7, 2, figsize=(12,40))\n",
        "\n",
        "for i,el in enumerate(list(df_rated.columns.values)[:-1]):\n",
        "    a = df_rated.boxplot(el, by=\"satisfaction\", ax=axes.flatten()[i], fontsize=10)\n"
      ]
    },
    {
      "cell_type": "markdown",
      "id": "c50869c7-4775-4d4f-958a-901d83411d66",
      "metadata": {
        "tags": [],
        "id": "c50869c7-4775-4d4f-958a-901d83411d66"
      },
      "source": [
        "Using the boxplots, I identified the following categories that appear to have a significant difference in ratings between overall satisfied and unsatisfied customers. These are the categories I will focus more on in my analysis:\n",
        "\n",
        "* wifi\n",
        "* food\n",
        "* ol_boarding\n",
        "* seat\n",
        "* entertainment\n",
        "* leg_room\n",
        "* baggage\n",
        "* checkin\n",
        "* inflight_service\n",
        "* cleanliness\n",
        "* ob_service\n",
        "\n",
        "### Non-Rating Columns ###\n",
        "\n",
        "I also wanted to consider some of the non-rating features, as they likely also had an impact on customer satisfaction. In my investigation of the arrival and departure delays, it appeared there were some data points that may be outliers. I used a strip plot and a box plot to visualize the distribution of departure delays:"
      ]
    },
    {
      "cell_type": "code",
      "execution_count": 13,
      "id": "67dc4e21-646f-45e1-adf3-6f599566a2ad",
      "metadata": {
        "id": "67dc4e21-646f-45e1-adf3-6f599566a2ad"
      },
      "outputs": [],
      "source": [
        "df_focus = df_n.filter([\"baggage\", \"wifi\", \"food\", \"ol_boarding\", \"seat\", \"entertainment\", \"leg_room\", \"checkin\", \"inflight_service\", \"cleanliness\", \"ob_service\", \"class\", \"dep_delay\", \"arr_delay\", \"distance\", \"satisfaction\"]).copy()"
      ]
    },
    {
      "cell_type": "code",
      "execution_count": 14,
      "id": "32b6e334-2eb1-4bb2-8689-f5be5b1af56f",
      "metadata": {
        "colab": {
          "base_uri": "https://localhost:8080/",
          "height": 303
        },
        "id": "32b6e334-2eb1-4bb2-8689-f5be5b1af56f",
        "outputId": "8a1f2dac-51f5-4e0a-c493-9957ad1cb144"
      },
      "outputs": [
        {
          "output_type": "execute_result",
          "data": {
            "text/plain": [
              "<matplotlib.axes._subplots.AxesSubplot at 0x7f61c5ea2bd0>"
            ]
          },
          "metadata": {},
          "execution_count": 14
        },
        {
          "output_type": "display_data",
          "data": {
            "text/plain": [
              "<Figure size 432x288 with 1 Axes>"
            ],
            "image/png": "[encoded data removed]"
          },
          "metadata": {
            "needs_background": "light"
          }
        }
      ],
      "source": [
        "sns.stripplot(x=\"satisfaction\", y=\"dep_delay\", data=df_focus, jitter=True)"
      ]
    },
    {
      "cell_type": "code",
      "execution_count": 15,
      "id": "57453d85-4bf2-44d0-968b-62af1088d337",
      "metadata": {
        "colab": {
          "base_uri": "https://localhost:8080/",
          "height": 378
        },
        "id": "57453d85-4bf2-44d0-968b-62af1088d337",
        "outputId": "a02a2c23-7c55-4d8d-c180-34c26cab1e4e"
      },
      "outputs": [
        {
          "output_type": "stream",
          "name": "stderr",
          "text": [
            "/usr/local/lib/python3.7/dist-packages/matplotlib/cbook/__init__.py:1376: VisibleDeprecationWarning: Creating an ndarray from ragged nested sequences (which is a list-or-tuple of lists-or-tuples-or ndarrays with different lengths or shapes) is deprecated. If you meant to do this, you must specify 'dtype=object' when creating the ndarray.\n",
            "  X = np.atleast_1d(X.T if isinstance(X, np.ndarray) else np.asarray(X))\n"
          ]
        },
        {
          "output_type": "execute_result",
          "data": {
            "text/plain": [
              "<matplotlib.axes._subplots.AxesSubplot at 0x7f61c59dde10>"
            ]
          },
          "metadata": {},
          "execution_count": 15
        },
        {
          "output_type": "display_data",
          "data": {
            "text/plain": [
              "<Figure size 432x288 with 1 Axes>"
            ],
            "image/png": "[encoded data removed]"
          },
          "metadata": {
            "needs_background": "light"
          }
        }
      ],
      "source": [
        "df_n.boxplot(column=\"dep_delay\", by=\"satisfaction\")"
      ]
    },
    {
      "cell_type": "markdown",
      "id": "c0e00e97-90c0-48d3-9dd4-50612482932b",
      "metadata": {
        "id": "c0e00e97-90c0-48d3-9dd4-50612482932b"
      },
      "source": [
        "Clearly the majority of flights had a small or no delay, and the box plot identified many data points as outliers. However, I still wanted to consider delays as I thought it was reasonable to assume long delays would have an impact on satisfaction. Therefore, I decided to choose a delay limit of 600 (10 hours) to exclude the most extreme outliers:"
      ]
    },
    {
      "cell_type": "code",
      "execution_count": 16,
      "id": "b19c62b0-3115-4076-a1b5-e62fcfe3c559",
      "metadata": {
        "colab": {
          "base_uri": "https://localhost:8080/",
          "height": 285
        },
        "id": "b19c62b0-3115-4076-a1b5-e62fcfe3c559",
        "outputId": "5c899552-298f-4430-952c-93be105e83a8"
      },
      "outputs": [
        {
          "output_type": "display_data",
          "data": {
            "text/plain": [
              "<Figure size 432x288 with 1 Axes>"
            ],
            "image/png": "[encoded data removed]"
          },
          "metadata": {
            "needs_background": "light"
          }
        }
      ],
      "source": [
        "df_focus = df_focus[df_focus[\"dep_delay\"] <= 600]\n",
        "sns.stripplot(x=\"satisfaction\", y=\"dep_delay\", data=df_focus, jitter=True);"
      ]
    },
    {
      "cell_type": "markdown",
      "id": "48d97b71-b01a-4dbe-ab14-6a8b3c08ddde",
      "metadata": {
        "id": "48d97b71-b01a-4dbe-ab14-6a8b3c08ddde"
      },
      "source": [
        "### Correlation Matrix ###\n",
        "\n",
        "To help visualize the relationship between the columns, I created a correlation matrix and applied a heatmap:"
      ]
    },
    {
      "cell_type": "code",
      "execution_count": 17,
      "id": "fb8b448f-7549-499a-b1a8-24d2934f0b52",
      "metadata": {
        "colab": {
          "base_uri": "https://localhost:8080/",
          "height": 615
        },
        "id": "fb8b448f-7549-499a-b1a8-24d2934f0b52",
        "outputId": "dc232990-49f9-4765-e024-6231ff89d6d3"
      },
      "outputs": [
        {
          "output_type": "execute_result",
          "data": {
            "text/plain": [
              "                   baggage      wifi      food  ol_boarding      seat  \\\n",
              "baggage           1.000000  0.120920  0.034673     0.083250  0.074514   \n",
              "wifi              0.120920  1.000000  0.134619     0.456989  0.122599   \n",
              "food              0.034673  0.134619  1.000000     0.234374  0.574514   \n",
              "ol_boarding       0.083250  0.456989  0.234374     1.000000  0.420111   \n",
              "seat              0.074514  0.122599  0.574514     0.420111  1.000000   \n",
              "entertainment     0.378191  0.209400  0.622659     0.285112  0.610685   \n",
              "leg_room          0.369568  0.160572  0.032539     0.123944  0.105563   \n",
              "checkin           0.233125  0.043121  0.087147     0.204313  0.191683   \n",
              "inflight_service  0.628669  0.110500  0.033952     0.074607  0.069227   \n",
              "cleanliness       0.095769  0.132647  0.657744     0.331399  0.678469   \n",
              "ob_service        0.519228  0.121541  0.059062     0.155430  0.131959   \n",
              "class            -0.160485 -0.036268 -0.085855    -0.322946 -0.227440   \n",
              "dep_delay        -0.006112 -0.016730 -0.029795    -0.020270 -0.028427   \n",
              "arr_delay        -0.009231 -0.018450 -0.032448    -0.023269 -0.030327   \n",
              "distance          0.063194  0.007181  0.056999     0.214950  0.157414   \n",
              "satisfaction      0.247737  0.284219  0.209821     0.503549  0.349407   \n",
              "\n",
              "                  entertainment  leg_room   checkin  inflight_service  \\\n",
              "baggage                0.378191  0.369568  0.233125          0.628669   \n",
              "wifi                   0.209400  0.160572  0.043121          0.110500   \n",
              "food                   0.622659  0.032539  0.087147          0.033952   \n",
              "ol_boarding            0.285112  0.123944  0.204313          0.074607   \n",
              "seat                   0.610685  0.105563  0.191683          0.069227   \n",
              "entertainment          1.000000  0.299686  0.120870          0.404898   \n",
              "leg_room               0.299686  1.000000  0.153146          0.368687   \n",
              "checkin                0.120870  0.153146  1.000000          0.237259   \n",
              "inflight_service       0.404898  0.368687  0.237259          1.000000   \n",
              "cleanliness            0.691924  0.096368  0.179410          0.088806   \n",
              "ob_service             0.420170  0.355529  0.243923          0.550790   \n",
              "class                 -0.194419 -0.204951 -0.151589         -0.156363   \n",
              "dep_delay             -0.028634  0.013691 -0.018903         -0.055213   \n",
              "arr_delay             -0.031828  0.011144 -0.020853         -0.059539   \n",
              "distance               0.128769  0.133908  0.073131          0.057569   \n",
              "satisfaction           0.398134  0.313161  0.236101          0.244768   \n",
              "\n",
              "                  cleanliness  ob_service     class  dep_delay  arr_delay  \\\n",
              "baggage              0.095769    0.519228 -0.160485  -0.006112  -0.009231   \n",
              "wifi                 0.132647    0.121541 -0.036268  -0.016730  -0.018450   \n",
              "food                 0.657744    0.059062 -0.085855  -0.029795  -0.032448   \n",
              "ol_boarding          0.331399    0.155430 -0.322946  -0.020270  -0.023269   \n",
              "seat                 0.678469    0.131959 -0.227440  -0.028427  -0.030327   \n",
              "entertainment        0.691924    0.420170 -0.194419  -0.028634  -0.031828   \n",
              "leg_room             0.096368    0.355529 -0.204951   0.013691   0.011144   \n",
              "checkin              0.179410    0.243923 -0.151589  -0.018903  -0.020853   \n",
              "inflight_service     0.088806    0.550790 -0.156363  -0.055213  -0.059539   \n",
              "cleanliness          1.000000    0.123209 -0.135792  -0.014396  -0.016111   \n",
              "ob_service           0.123209    1.000000 -0.209508  -0.032895  -0.036549   \n",
              "class               -0.135792   -0.209508  1.000000   0.010962   0.015025   \n",
              "dep_delay           -0.014396   -0.032895  0.010962   1.000000   0.956301   \n",
              "arr_delay           -0.016111   -0.036549  0.015025   0.956301   1.000000   \n",
              "distance             0.093209    0.109557 -0.451224   0.000374  -0.004416   \n",
              "satisfaction         0.305141    0.322436 -0.494511  -0.052355  -0.059518   \n",
              "\n",
              "                  distance  satisfaction  \n",
              "baggage           0.063194      0.247737  \n",
              "wifi              0.007181      0.284219  \n",
              "food              0.056999      0.209821  \n",
              "ol_boarding       0.214950      0.503549  \n",
              "seat              0.157414      0.349407  \n",
              "entertainment     0.128769      0.398134  \n",
              "leg_room          0.133908      0.313161  \n",
              "checkin           0.073131      0.236101  \n",
              "inflight_service  0.057569      0.244768  \n",
              "cleanliness       0.093209      0.305141  \n",
              "ob_service        0.109557      0.322436  \n",
              "class            -0.451224     -0.494511  \n",
              "dep_delay         0.000374     -0.052355  \n",
              "arr_delay        -0.004416     -0.059518  \n",
              "distance          1.000000      0.298825  \n",
              "satisfaction      0.298825      1.000000  "
            ],
            "text/html": [
              "\n",
              "  <div id=\"df-02593537-c23f-48ad-ba14-c2acafc11d80\">\n",
              "    <div class=\"colab-df-container\">\n",
              "      <div>\n",
              "<style scoped>\n",
              "    .dataframe tbody tr th:only-of-type {\n",
              "        vertical-align: middle;\n",
              "    }\n",
              "\n",
              "    .dataframe tbody tr th {\n",
              "        vertical-align: top;\n",
              "    }\n",
              "\n",
              "    .dataframe thead th {\n",
              "        text-align: right;\n",
              "    }\n",
              "</style>\n",
              "<table border=\"1\" class=\"dataframe\">\n",
              "  <thead>\n",
              "    <tr style=\"text-align: right;\">\n",
              "      <th></th>\n",
              "      <th>baggage</th>\n",
              "      <th>wifi</th>\n",
              "      <th>food</th>\n",
              "      <th>ol_boarding</th>\n",
              "      <th>seat</th>\n",
              "      <th>entertainment</th>\n",
              "      <th>leg_room</th>\n",
              "      <th>checkin</th>\n",
              "      <th>inflight_service</th>\n",
              "      <th>cleanliness</th>\n",
              "      <th>ob_service</th>\n",
              "      <th>class</th>\n",
              "      <th>dep_delay</th>\n",
              "      <th>arr_delay</th>\n",
              "      <th>distance</th>\n",
              "      <th>satisfaction</th>\n",
              "    </tr>\n",
              "  </thead>\n",
              "  <tbody>\n",
              "    <tr>\n",
              "      <th>baggage</th>\n",
              "      <td>1.000000</td>\n",
              "      <td>0.120920</td>\n",
              "      <td>0.034673</td>\n",
              "      <td>0.083250</td>\n",
              "      <td>0.074514</td>\n",
              "      <td>0.378191</td>\n",
              "      <td>0.369568</td>\n",
              "      <td>0.233125</td>\n",
              "      <td>0.628669</td>\n",
              "      <td>0.095769</td>\n",
              "      <td>0.519228</td>\n",
              "      <td>-0.160485</td>\n",
              "      <td>-0.006112</td>\n",
              "      <td>-0.009231</td>\n",
              "      <td>0.063194</td>\n",
              "      <td>0.247737</td>\n",
              "    </tr>\n",
              "    <tr>\n",
              "      <th>wifi</th>\n",
              "      <td>0.120920</td>\n",
              "      <td>1.000000</td>\n",
              "      <td>0.134619</td>\n",
              "      <td>0.456989</td>\n",
              "      <td>0.122599</td>\n",
              "      <td>0.209400</td>\n",
              "      <td>0.160572</td>\n",
              "      <td>0.043121</td>\n",
              "      <td>0.110500</td>\n",
              "      <td>0.132647</td>\n",
              "      <td>0.121541</td>\n",
              "      <td>-0.036268</td>\n",
              "      <td>-0.016730</td>\n",
              "      <td>-0.018450</td>\n",
              "      <td>0.007181</td>\n",
              "      <td>0.284219</td>\n",
              "    </tr>\n",
              "    <tr>\n",
              "      <th>food</th>\n",
              "      <td>0.034673</td>\n",
              "      <td>0.134619</td>\n",
              "      <td>1.000000</td>\n",
              "      <td>0.234374</td>\n",
              "      <td>0.574514</td>\n",
              "      <td>0.622659</td>\n",
              "      <td>0.032539</td>\n",
              "      <td>0.087147</td>\n",
              "      <td>0.033952</td>\n",
              "      <td>0.657744</td>\n",
              "      <td>0.059062</td>\n",
              "      <td>-0.085855</td>\n",
              "      <td>-0.029795</td>\n",
              "      <td>-0.032448</td>\n",
              "      <td>0.056999</td>\n",
              "      <td>0.209821</td>\n",
              "    </tr>\n",
              "    <tr>\n",
              "      <th>ol_boarding</th>\n",
              "      <td>0.083250</td>\n",
              "      <td>0.456989</td>\n",
              "      <td>0.234374</td>\n",
              "      <td>1.000000</td>\n",
              "      <td>0.420111</td>\n",
              "      <td>0.285112</td>\n",
              "      <td>0.123944</td>\n",
              "      <td>0.204313</td>\n",
              "      <td>0.074607</td>\n",
              "      <td>0.331399</td>\n",
              "      <td>0.155430</td>\n",
              "      <td>-0.322946</td>\n",
              "      <td>-0.020270</td>\n",
              "      <td>-0.023269</td>\n",
              "      <td>0.214950</td>\n",
              "      <td>0.503549</td>\n",
              "    </tr>\n",
              "    <tr>\n",
              "      <th>seat</th>\n",
              "      <td>0.074514</td>\n",
              "      <td>0.122599</td>\n",
              "      <td>0.574514</td>\n",
              "      <td>0.420111</td>\n",
              "      <td>1.000000</td>\n",
              "      <td>0.610685</td>\n",
              "      <td>0.105563</td>\n",
              "      <td>0.191683</td>\n",
              "      <td>0.069227</td>\n",
              "      <td>0.678469</td>\n",
              "      <td>0.131959</td>\n",
              "      <td>-0.227440</td>\n",
              "      <td>-0.028427</td>\n",
              "      <td>-0.030327</td>\n",
              "      <td>0.157414</td>\n",
              "      <td>0.349407</td>\n",
              "    </tr>\n",
              "    <tr>\n",
              "      <th>entertainment</th>\n",
              "      <td>0.378191</td>\n",
              "      <td>0.209400</td>\n",
              "      <td>0.622659</td>\n",
              "      <td>0.285112</td>\n",
              "      <td>0.610685</td>\n",
              "      <td>1.000000</td>\n",
              "      <td>0.299686</td>\n",
              "      <td>0.120870</td>\n",
              "      <td>0.404898</td>\n",
              "      <td>0.691924</td>\n",
              "      <td>0.420170</td>\n",
              "      <td>-0.194419</td>\n",
              "      <td>-0.028634</td>\n",
              "      <td>-0.031828</td>\n",
              "      <td>0.128769</td>\n",
              "      <td>0.398134</td>\n",
              "    </tr>\n",
              "    <tr>\n",
              "      <th>leg_room</th>\n",
              "      <td>0.369568</td>\n",
              "      <td>0.160572</td>\n",
              "      <td>0.032539</td>\n",
              "      <td>0.123944</td>\n",
              "      <td>0.105563</td>\n",
              "      <td>0.299686</td>\n",
              "      <td>1.000000</td>\n",
              "      <td>0.153146</td>\n",
              "      <td>0.368687</td>\n",
              "      <td>0.096368</td>\n",
              "      <td>0.355529</td>\n",
              "      <td>-0.204951</td>\n",
              "      <td>0.013691</td>\n",
              "      <td>0.011144</td>\n",
              "      <td>0.133908</td>\n",
              "      <td>0.313161</td>\n",
              "    </tr>\n",
              "    <tr>\n",
              "      <th>checkin</th>\n",
              "      <td>0.233125</td>\n",
              "      <td>0.043121</td>\n",
              "      <td>0.087147</td>\n",
              "      <td>0.204313</td>\n",
              "      <td>0.191683</td>\n",
              "      <td>0.120870</td>\n",
              "      <td>0.153146</td>\n",
              "      <td>1.000000</td>\n",
              "      <td>0.237259</td>\n",
              "      <td>0.179410</td>\n",
              "      <td>0.243923</td>\n",
              "      <td>-0.151589</td>\n",
              "      <td>-0.018903</td>\n",
              "      <td>-0.020853</td>\n",
              "      <td>0.073131</td>\n",
              "      <td>0.236101</td>\n",
              "    </tr>\n",
              "    <tr>\n",
              "      <th>inflight_service</th>\n",
              "      <td>0.628669</td>\n",
              "      <td>0.110500</td>\n",
              "      <td>0.033952</td>\n",
              "      <td>0.074607</td>\n",
              "      <td>0.069227</td>\n",
              "      <td>0.404898</td>\n",
              "      <td>0.368687</td>\n",
              "      <td>0.237259</td>\n",
              "      <td>1.000000</td>\n",
              "      <td>0.088806</td>\n",
              "      <td>0.550790</td>\n",
              "      <td>-0.156363</td>\n",
              "      <td>-0.055213</td>\n",
              "      <td>-0.059539</td>\n",
              "      <td>0.057569</td>\n",
              "      <td>0.244768</td>\n",
              "    </tr>\n",
              "    <tr>\n",
              "      <th>cleanliness</th>\n",
              "      <td>0.095769</td>\n",
              "      <td>0.132647</td>\n",
              "      <td>0.657744</td>\n",
              "      <td>0.331399</td>\n",
              "      <td>0.678469</td>\n",
              "      <td>0.691924</td>\n",
              "      <td>0.096368</td>\n",
              "      <td>0.179410</td>\n",
              "      <td>0.088806</td>\n",
              "      <td>1.000000</td>\n",
              "      <td>0.123209</td>\n",
              "      <td>-0.135792</td>\n",
              "      <td>-0.014396</td>\n",
              "      <td>-0.016111</td>\n",
              "      <td>0.093209</td>\n",
              "      <td>0.305141</td>\n",
              "    </tr>\n",
              "    <tr>\n",
              "      <th>ob_service</th>\n",
              "      <td>0.519228</td>\n",
              "      <td>0.121541</td>\n",
              "      <td>0.059062</td>\n",
              "      <td>0.155430</td>\n",
              "      <td>0.131959</td>\n",
              "      <td>0.420170</td>\n",
              "      <td>0.355529</td>\n",
              "      <td>0.243923</td>\n",
              "      <td>0.550790</td>\n",
              "      <td>0.123209</td>\n",
              "      <td>1.000000</td>\n",
              "      <td>-0.209508</td>\n",
              "      <td>-0.032895</td>\n",
              "      <td>-0.036549</td>\n",
              "      <td>0.109557</td>\n",
              "      <td>0.322436</td>\n",
              "    </tr>\n",
              "    <tr>\n",
              "      <th>class</th>\n",
              "      <td>-0.160485</td>\n",
              "      <td>-0.036268</td>\n",
              "      <td>-0.085855</td>\n",
              "      <td>-0.322946</td>\n",
              "      <td>-0.227440</td>\n",
              "      <td>-0.194419</td>\n",
              "      <td>-0.204951</td>\n",
              "      <td>-0.151589</td>\n",
              "      <td>-0.156363</td>\n",
              "      <td>-0.135792</td>\n",
              "      <td>-0.209508</td>\n",
              "      <td>1.000000</td>\n",
              "      <td>0.010962</td>\n",
              "      <td>0.015025</td>\n",
              "      <td>-0.451224</td>\n",
              "      <td>-0.494511</td>\n",
              "    </tr>\n",
              "    <tr>\n",
              "      <th>dep_delay</th>\n",
              "      <td>-0.006112</td>\n",
              "      <td>-0.016730</td>\n",
              "      <td>-0.029795</td>\n",
              "      <td>-0.020270</td>\n",
              "      <td>-0.028427</td>\n",
              "      <td>-0.028634</td>\n",
              "      <td>0.013691</td>\n",
              "      <td>-0.018903</td>\n",
              "      <td>-0.055213</td>\n",
              "      <td>-0.014396</td>\n",
              "      <td>-0.032895</td>\n",
              "      <td>0.010962</td>\n",
              "      <td>1.000000</td>\n",
              "      <td>0.956301</td>\n",
              "      <td>0.000374</td>\n",
              "      <td>-0.052355</td>\n",
              "    </tr>\n",
              "    <tr>\n",
              "      <th>arr_delay</th>\n",
              "      <td>-0.009231</td>\n",
              "      <td>-0.018450</td>\n",
              "      <td>-0.032448</td>\n",
              "      <td>-0.023269</td>\n",
              "      <td>-0.030327</td>\n",
              "      <td>-0.031828</td>\n",
              "      <td>0.011144</td>\n",
              "      <td>-0.020853</td>\n",
              "      <td>-0.059539</td>\n",
              "      <td>-0.016111</td>\n",
              "      <td>-0.036549</td>\n",
              "      <td>0.015025</td>\n",
              "      <td>0.956301</td>\n",
              "      <td>1.000000</td>\n",
              "      <td>-0.004416</td>\n",
              "      <td>-0.059518</td>\n",
              "    </tr>\n",
              "    <tr>\n",
              "      <th>distance</th>\n",
              "      <td>0.063194</td>\n",
              "      <td>0.007181</td>\n",
              "      <td>0.056999</td>\n",
              "      <td>0.214950</td>\n",
              "      <td>0.157414</td>\n",
              "      <td>0.128769</td>\n",
              "      <td>0.133908</td>\n",
              "      <td>0.073131</td>\n",
              "      <td>0.057569</td>\n",
              "      <td>0.093209</td>\n",
              "      <td>0.109557</td>\n",
              "      <td>-0.451224</td>\n",
              "      <td>0.000374</td>\n",
              "      <td>-0.004416</td>\n",
              "      <td>1.000000</td>\n",
              "      <td>0.298825</td>\n",
              "    </tr>\n",
              "    <tr>\n",
              "      <th>satisfaction</th>\n",
              "      <td>0.247737</td>\n",
              "      <td>0.284219</td>\n",
              "      <td>0.209821</td>\n",
              "      <td>0.503549</td>\n",
              "      <td>0.349407</td>\n",
              "      <td>0.398134</td>\n",
              "      <td>0.313161</td>\n",
              "      <td>0.236101</td>\n",
              "      <td>0.244768</td>\n",
              "      <td>0.305141</td>\n",
              "      <td>0.322436</td>\n",
              "      <td>-0.494511</td>\n",
              "      <td>-0.052355</td>\n",
              "      <td>-0.059518</td>\n",
              "      <td>0.298825</td>\n",
              "      <td>1.000000</td>\n",
              "    </tr>\n",
              "  </tbody>\n",
              "</table>\n",
              "</div>\n",
              "      <button class=\"colab-df-convert\" onclick=\"convertToInteractive('df-02593537-c23f-48ad-ba14-c2acafc11d80')\"\n",
              "              title=\"Convert this dataframe to an interactive table.\"\n",
              "              style=\"display:none;\">\n",
              "        \n",
              "  <svg xmlns=\"http://www.w3.org/2000/svg\" height=\"24px\"viewBox=\"0 0 24 24\"\n",
              "       width=\"24px\">\n",
              "    <path d=\"M0 0h24v24H0V0z\" fill=\"none\"/>\n",
              "    <path d=\"M18.56 5.44l.94 2.06.94-2.06 2.06-.94-2.06-.94-.94-2.06-.94 2.06-2.06.94zm-11 1L8.5 8.5l.94-2.06 2.06-.94-2.06-.94L8.5 2.5l-.94 2.06-2.06.94zm10 10l.94 2.06.94-2.06 2.06-.94-2.06-.94-.94-2.06-.94 2.06-2.06.94z\"/><path d=\"M17.41 7.96l-1.37-1.37c-.4-.4-.92-.59-1.43-.59-.52 0-1.04.2-1.43.59L10.3 9.45l-7.72 7.72c-.78.78-.78 2.05 0 2.83L4 21.41c.39.39.9.59 1.41.59.51 0 1.02-.2 1.41-.59l7.78-7.78 2.81-2.81c.8-.78.8-2.07 0-2.86zM5.41 20L4 18.59l7.72-7.72 1.47 1.35L5.41 20z\"/>\n",
              "  </svg>\n",
              "      </button>\n",
              "      \n",
              "  <style>\n",
              "    .colab-df-container {\n",
              "      display:flex;\n",
              "      flex-wrap:wrap;\n",
              "      gap: 12px;\n",
              "    }\n",
              "\n",
              "    .colab-df-convert {\n",
              "      background-color: #E8F0FE;\n",
              "      border: none;\n",
              "      border-radius: 50%;\n",
              "      cursor: pointer;\n",
              "      display: none;\n",
              "      fill: #1967D2;\n",
              "      height: 32px;\n",
              "      padding: 0 0 0 0;\n",
              "      width: 32px;\n",
              "    }\n",
              "\n",
              "    .colab-df-convert:hover {\n",
              "      background-color: #E2EBFA;\n",
              "      box-shadow: 0px 1px 2px rgba(60, 64, 67, 0.3), 0px 1px 3px 1px rgba(60, 64, 67, 0.15);\n",
              "      fill: #174EA6;\n",
              "    }\n",
              "\n",
              "    [theme=dark] .colab-df-convert {\n",
              "      background-color: #3B4455;\n",
              "      fill: #D2E3FC;\n",
              "    }\n",
              "\n",
              "    [theme=dark] .colab-df-convert:hover {\n",
              "      background-color: #434B5C;\n",
              "      box-shadow: 0px 1px 3px 1px rgba(0, 0, 0, 0.15);\n",
              "      filter: drop-shadow(0px 1px 2px rgba(0, 0, 0, 0.3));\n",
              "      fill: #FFFFFF;\n",
              "    }\n",
              "  </style>\n",
              "\n",
              "      <script>\n",
              "        const buttonEl =\n",
              "          document.querySelector('#df-02593537-c23f-48ad-ba14-c2acafc11d80 button.colab-df-convert');\n",
              "        buttonEl.style.display =\n",
              "          google.colab.kernel.accessAllowed ? 'block' : 'none';\n",
              "\n",
              "        async function convertToInteractive(key) {\n",
              "          const element = document.querySelector('#df-02593537-c23f-48ad-ba14-c2acafc11d80');\n",
              "          const dataTable =\n",
              "            await google.colab.kernel.invokeFunction('convertToInteractive',\n",
              "                                                     [key], {});\n",
              "          if (!dataTable) return;\n",
              "\n",
              "          const docLinkHtml = 'Like what you see? Visit the ' +\n",
              "            '<a target=\"_blank\" href=https://colab.research.google.com/notebooks/data_table.ipynb>data table notebook</a>'\n",
              "            + ' to learn more about interactive tables.';\n",
              "          element.innerHTML = '';\n",
              "          dataTable['output_type'] = 'display_data';\n",
              "          await google.colab.output.renderOutput(dataTable, element);\n",
              "          const docLink = document.createElement('div');\n",
              "          docLink.innerHTML = docLinkHtml;\n",
              "          element.appendChild(docLink);\n",
              "        }\n",
              "      </script>\n",
              "    </div>\n",
              "  </div>\n",
              "  "
            ]
          },
          "metadata": {},
          "execution_count": 17
        }
      ],
      "source": [
        "corr_matrix = df_focus.corr()\n",
        "corr_matrix"
      ]
    },
    {
      "cell_type": "code",
      "execution_count": 18,
      "id": "cd58461c-dd2e-4ab1-a0bc-3d3050dfff17",
      "metadata": {
        "colab": {
          "base_uri": "https://localhost:8080/",
          "height": 563
        },
        "id": "cd58461c-dd2e-4ab1-a0bc-3d3050dfff17",
        "outputId": "7d028d2a-5560-429d-a642-f7b553136e34"
      },
      "outputs": [
        {
          "output_type": "display_data",
          "data": {
            "text/plain": [
              "<Figure size 1080x576 with 2 Axes>"
            ],
            "image/png": "[encoded data removed]"
          },
          "metadata": {
            "needs_background": "light"
          }
        }
      ],
      "source": [
        "plt.figure(figsize=[15,8])\n",
        "sns.heatmap(corr_matrix, annot=True)\n",
        "plt.show()"
      ]
    },
    {
      "cell_type": "markdown",
      "id": "cce479d7-54ed-49bf-be36-e24aeb873076",
      "metadata": {
        "tags": [],
        "id": "cce479d7-54ed-49bf-be36-e24aeb873076"
      },
      "source": [
        "Unsurprisingly, the dep_delay and arr_delay had a very high correlation. This makes sense as a plane that is delayed on departure will also have an arrival delay of approximately the same amount. I will drop the arr_delay column and use only dep_delay in the model.\n",
        "\n",
        "Looking at the correlation of other columns with the satisfaction column, class immediately stands out as having a significant negative correlation with satisfaction. This is to be expected, as increasing class values correspond to lower classes (recall economy class is value 3, while business class is 1). The rating-based columns all have a positive correlation with satisfaction to varying degrees. The delay columns have very low negative correlation to satisfaction with values close to zero, so I decided to omit them from the model phase. Interestingly, flight distance has a positive correlation with satisfaction. Based on my own experience, I would expect longer flights to be more stressful and have a lower satisfaction rating, but according to the data this is not the case.\n",
        "\n",
        "### Conclusions of Analysis ###\n",
        "\n",
        "After my analysis, I had narrowed the list of features I would consider for my models to the following:\n",
        "\n",
        "* baggage\n",
        "* wifi\n",
        "* food\n",
        "* ol_boarding\n",
        "* seat\n",
        "* entertainment\n",
        "* leg_room\n",
        "* checkin\n",
        "* inflight_service\n",
        "* cleanliness\n",
        "* ob_service\n",
        "* class\n",
        "* distance\n",
        "\n",
        "Based on the boxplots and correlation matrix I thought these would have the greatest effect on overall satisfaction\n",
        "\n",
        "### Model Selection ###\n",
        "\n",
        "I decided to try to fit logistic regression and support vector machine models to the data. Due to the binary nature of the target (customer satisfaction), I I knew logistic regression would be a good starting point. Due to the large number of features, I knew logistic regression would likely not result in the most accurate fit and I would have to be careful to avoid over-fitting.\n",
        "\n",
        "Support vector machine (SVM) would do better with the many features but requires more pre-processing for good performance and does not do well will large sample sizes. Therefore, I ended up standardizing the feature data and also reducing the size of the train data.\n",
        "\n",
        "### Logistic Regression ###\n",
        "\n",
        "I began with logistic regression. I separated out the columns I wanted to include and split the data into test and train sets. I wanted to see the effect of including different numbers of features, so I started with a null model and repeatedly added in the feature that resulted in the highest accuracy until I had added all 13 features, similar to forward stepwise selection."
      ]
    },
    {
      "cell_type": "code",
      "execution_count": 19,
      "id": "324cd58e-42e3-4f6b-b92e-61931040f3e4",
      "metadata": {
        "id": "324cd58e-42e3-4f6b-b92e-61931040f3e4"
      },
      "outputs": [],
      "source": [
        "x = df_focus[[\"baggage\", \"wifi\", \"leg_room\", \"food\", \"ol_boarding\", \"seat\", \"entertainment\", \"checkin\", \"inflight_service\", \"cleanliness\", \"ob_service\", \"class\", \"distance\"]]\n",
        "y = df_focus[\"satisfaction\"].replace({True: 1, False: 0})\n",
        "\n",
        "x_train, x_test, y_train, y_test = train_test_split(x, y, test_size=0.25, random_state=15)"
      ]
    },
    {
      "cell_type": "code",
      "execution_count": 20,
      "id": "9d2e733e-40db-49ac-916b-35d26bf5e078",
      "metadata": {
        "id": "9d2e733e-40db-49ac-916b-35d26bf5e078"
      },
      "outputs": [],
      "source": [
        "lr = LogisticRegression(max_iter=100)\n",
        "x_select1 = [\"ol_boarding\"]\n",
        "log_model1 = lr.fit(x_train[x_select1], y_train)\n",
        "y_pred1=log_model1.predict(x_test[x_select1])"
      ]
    },
    {
      "cell_type": "code",
      "execution_count": 57,
      "id": "b57bbaa6-103a-4d87-8870-54e710fd1b6a",
      "metadata": {
        "colab": {
          "base_uri": "https://localhost:8080/"
        },
        "id": "b57bbaa6-103a-4d87-8870-54e710fd1b6a",
        "outputId": "48ce6d50-7c83-4bde-cfa7-f6a17da365c8"
      },
      "outputs": [
        {
          "output_type": "stream",
          "name": "stdout",
          "text": [
            "1 Feature\n",
            "Accuracy: 0.7898121053442169\n",
            "Precision: 0.7259040819494025\n",
            "Recall: 0.829181810123216\n"
          ]
        }
      ],
      "source": [
        "print(\"1 Feature\")\n",
        "print(\"Accuracy:\",metrics.accuracy_score(y_test, y_pred1))\n",
        "print(\"Precision:\",metrics.precision_score(y_test, y_pred1))\n",
        "print(\"Recall:\",metrics.recall_score(y_test, y_pred1))"
      ]
    },
    {
      "cell_type": "code",
      "execution_count": 22,
      "id": "9fa3158f-70f1-4fc3-a9d6-51a2910b96b4",
      "metadata": {
        "tags": [],
        "id": "9fa3158f-70f1-4fc3-a9d6-51a2910b96b4"
      },
      "outputs": [],
      "source": [
        "lr2 = LogisticRegression(max_iter=100)\n",
        "x_select2 = [\"ol_boarding\", \"entertainment\"]\n",
        "log_model2 = lr2.fit(x_train[x_select2], y_train)\n",
        "y_pred2=log_model2.predict(x_test[x_select2])"
      ]
    },
    {
      "cell_type": "code",
      "execution_count": 58,
      "id": "05a17af7-af03-4491-823f-96bd122b0ffe",
      "metadata": {
        "colab": {
          "base_uri": "https://localhost:8080/"
        },
        "id": "05a17af7-af03-4491-823f-96bd122b0ffe",
        "outputId": "787b1637-c0de-4b07-e252-c3b9acaaaa6e"
      },
      "outputs": [
        {
          "output_type": "stream",
          "name": "stdout",
          "text": [
            "2 Features\n",
            "Accuracy: 0.7980902510395811\n",
            "Precision: 0.7808690797431841\n",
            "Recall: 0.7439056821203794\n"
          ]
        }
      ],
      "source": [
        "print(\"2 Features\")\n",
        "print(\"Accuracy:\",metrics.accuracy_score(y_test, y_pred2))\n",
        "print(\"Precision:\",metrics.precision_score(y_test, y_pred2))\n",
        "print(\"Recall:\",metrics.recall_score(y_test, y_pred2))"
      ]
    },
    {
      "cell_type": "code",
      "execution_count": 24,
      "id": "66d24dcf-80b4-4ae4-823a-49233d333484",
      "metadata": {
        "tags": [],
        "id": "66d24dcf-80b4-4ae4-823a-49233d333484"
      },
      "outputs": [],
      "source": [
        "lr3 = LogisticRegression(max_iter=300)\n",
        "x_select3 = [\"ol_boarding\", \"entertainment\", \"class\"]\n",
        "log_model3 = lr3.fit(x_train[x_select3], y_train)\n",
        "y_pred3=log_model3.predict(x_test[x_select3])"
      ]
    },
    {
      "cell_type": "code",
      "execution_count": 25,
      "id": "cfe39964-d9b0-43da-8d2a-cca2938641cf",
      "metadata": {
        "colab": {
          "base_uri": "https://localhost:8080/"
        },
        "id": "cfe39964-d9b0-43da-8d2a-cca2938641cf",
        "outputId": "3ec3ecdb-d9b8-4497-c523-6a11f5f5a4f6"
      },
      "outputs": [
        {
          "output_type": "stream",
          "name": "stdout",
          "text": [
            "Accuracy: 0.811065763129524\n",
            "Precision: 0.7807929515418502\n",
            "Recall: 0.7855686552610585\n"
          ]
        }
      ],
      "source": [
        "print(\"3 Features\")\n",
        "print(\"Accuracy:\",metrics.accuracy_score(y_test, y_pred3))\n",
        "print(\"Precision:\",metrics.precision_score(y_test, y_pred3))\n",
        "print(\"Recall:\",metrics.recall_score(y_test, y_pred3))"
      ]
    },
    {
      "cell_type": "code",
      "execution_count": 26,
      "id": "362e896f-cb0b-41eb-960e-b2add703fd4d",
      "metadata": {
        "tags": [],
        "id": "362e896f-cb0b-41eb-960e-b2add703fd4d"
      },
      "outputs": [],
      "source": [
        "lr4 = LogisticRegression(max_iter=300)\n",
        "x_select4 = [\"ol_boarding\", \"entertainment\", \"class\", \"leg_room\"]\n",
        "log_model4 = lr4.fit(x_train[x_select4], y_train)\n",
        "y_pred4=log_model4.predict(x_test[x_select4])"
      ]
    },
    {
      "cell_type": "code",
      "execution_count": 59,
      "id": "6b7c3e93-e3b5-4fdb-8b73-69e54336e83e",
      "metadata": {
        "tags": [],
        "colab": {
          "base_uri": "https://localhost:8080/"
        },
        "id": "6b7c3e93-e3b5-4fdb-8b73-69e54336e83e",
        "outputId": "3af4c1ce-5ca5-4a95-f099-a9d9c1a1a77a"
      },
      "outputs": [
        {
          "output_type": "stream",
          "name": "stdout",
          "text": [
            "4 Features\n",
            "Accuracy: 0.8321654089018944\n",
            "Precision: 0.828555154737042\n",
            "Recall: 0.7736902756847798\n"
          ]
        }
      ],
      "source": [
        "print(\"4 Features\")\n",
        "print(\"Accuracy:\",metrics.accuracy_score(y_test, y_pred4))\n",
        "print(\"Precision:\",metrics.precision_score(y_test, y_pred4))\n",
        "print(\"Recall:\",metrics.recall_score(y_test, y_pred4))"
      ]
    },
    {
      "cell_type": "code",
      "execution_count": 28,
      "id": "25346e2f-c4be-4968-a9e7-5d64ea1c297d",
      "metadata": {
        "tags": [],
        "id": "25346e2f-c4be-4968-a9e7-5d64ea1c297d"
      },
      "outputs": [],
      "source": [
        "lr5 = LogisticRegression(max_iter=300)\n",
        "x_select5 = [\"ol_boarding\", \"entertainment\", \"class\", \"leg_room\", \"wifi\"]\n",
        "log_model5 = lr5.fit(x_train[x_select5], y_train)\n",
        "y_pred5=log_model5.predict(x_test[x_select5])"
      ]
    },
    {
      "cell_type": "code",
      "execution_count": 60,
      "id": "bd977484-4544-4040-a27d-30a78068589d",
      "metadata": {
        "tags": [],
        "colab": {
          "base_uri": "https://localhost:8080/"
        },
        "id": "bd977484-4544-4040-a27d-30a78068589d",
        "outputId": "77f1c34f-3fe0-47fd-c19d-229d4d4f69c7"
      },
      "outputs": [
        {
          "output_type": "stream",
          "name": "stdout",
          "text": [
            "5 Features\n",
            "Accuracy: 0.8331279839827507\n",
            "Precision: 0.819050243409571\n",
            "Recall: 0.7904441095647549\n"
          ]
        }
      ],
      "source": [
        "print(\"5 Features\")\n",
        "print(\"Accuracy:\",metrics.accuracy_score(y_test, y_pred5))\n",
        "print(\"Precision:\",metrics.precision_score(y_test, y_pred5))\n",
        "print(\"Recall:\",metrics.recall_score(y_test, y_pred5))"
      ]
    },
    {
      "cell_type": "code",
      "execution_count": 30,
      "id": "7fc488ba-2334-450a-aad8-8633b87a5829",
      "metadata": {
        "tags": [],
        "id": "7fc488ba-2334-450a-aad8-8633b87a5829"
      },
      "outputs": [],
      "source": [
        "lr6 = LogisticRegression(max_iter=700)\n",
        "x_select6 = [\"ol_boarding\", \"entertainment\", \"class\", \"leg_room\", \"wifi\", \"distance\"]\n",
        "log_model6 = lr6.fit(x_train[x_select6], y_train)\n",
        "y_pred6=log_model6.predict(x_test[x_select6])"
      ]
    },
    {
      "cell_type": "code",
      "execution_count": 61,
      "id": "e94d7e0a-330f-4e24-9cb3-f8279bbf8d28",
      "metadata": {
        "tags": [],
        "colab": {
          "base_uri": "https://localhost:8080/"
        },
        "id": "e94d7e0a-330f-4e24-9cb3-f8279bbf8d28",
        "outputId": "97fbf40d-b378-487b-ce4a-d7e65e697521"
      },
      "outputs": [
        {
          "output_type": "stream",
          "name": "stdout",
          "text": [
            "6 Features\n",
            "Accuracy: 0.8384028954258432\n",
            "Precision: 0.8256712026480324\n",
            "Recall: 0.79602872085808\n"
          ]
        }
      ],
      "source": [
        "print(\"6 Features\")\n",
        "print(\"Accuracy:\",metrics.accuracy_score(y_test, y_pred6))\n",
        "print(\"Precision:\",metrics.precision_score(y_test, y_pred6))\n",
        "print(\"Recall:\",metrics.recall_score(y_test, y_pred6))"
      ]
    },
    {
      "cell_type": "code",
      "execution_count": 32,
      "id": "5dfa1583-450a-4fa3-843e-52cce62d3963",
      "metadata": {
        "tags": [],
        "id": "5dfa1583-450a-4fa3-843e-52cce62d3963"
      },
      "outputs": [],
      "source": [
        "lr7 = LogisticRegression(max_iter=700)\n",
        "x_select7 = [\"ol_boarding\", \"entertainment\", \"class\", \"leg_room\", \"wifi\", \"distance\", \"checkin\"]\n",
        "log_model7 = lr7.fit(x_train[x_select7], y_train)\n",
        "y_pred7=log_model7.predict(x_test[x_select7])"
      ]
    },
    {
      "cell_type": "code",
      "execution_count": 62,
      "id": "c61053dc-8a01-4af0-89e9-43f45593018f",
      "metadata": {
        "tags": [],
        "colab": {
          "base_uri": "https://localhost:8080/"
        },
        "id": "c61053dc-8a01-4af0-89e9-43f45593018f",
        "outputId": "85a84b2f-d640-435f-b0dd-647cdefa7c2f"
      },
      "outputs": [
        {
          "output_type": "stream",
          "name": "stdout",
          "text": [
            "7 Features\n",
            "Accuracy: 0.8369782843061759\n",
            "Precision: 0.8277979346915992\n",
            "Recall: 0.7887598617143871\n"
          ]
        }
      ],
      "source": [
        "print(\"7 Features\")\n",
        "print(\"Accuracy:\",metrics.accuracy_score(y_test, y_pred7))\n",
        "print(\"Precision:\",metrics.precision_score(y_test, y_pred7))\n",
        "print(\"Recall:\",metrics.recall_score(y_test, y_pred7))"
      ]
    },
    {
      "cell_type": "code",
      "execution_count": 34,
      "id": "fde79187-a61b-47fa-b22d-c45bfa9b5dd0",
      "metadata": {
        "tags": [],
        "id": "fde79187-a61b-47fa-b22d-c45bfa9b5dd0"
      },
      "outputs": [],
      "source": [
        "lr8 = LogisticRegression(max_iter=700)\n",
        "x_select8 = [\"ol_boarding\", \"entertainment\", \"class\", \"leg_room\", \"wifi\", \"distance\", \"checkin\", \"baggage\"]\n",
        "log_model8 = lr8.fit(x_train[x_select8], y_train)\n",
        "y_pred8=log_model8.predict(x_test[x_select8])"
      ]
    },
    {
      "cell_type": "code",
      "execution_count": 63,
      "id": "766c4880-ca54-4f62-b087-bf4fa33c1762",
      "metadata": {
        "tags": [],
        "colab": {
          "base_uri": "https://localhost:8080/"
        },
        "id": "766c4880-ca54-4f62-b087-bf4fa33c1762",
        "outputId": "560622f2-d9f9-464c-e713-18cbe8dc2e78"
      },
      "outputs": [
        {
          "output_type": "stream",
          "name": "stdout",
          "text": [
            "8 Features\n",
            "Accuracy: 0.8368242722932389\n",
            "Precision: 0.826942716553709\n",
            "Recall: 0.7895576633277192\n"
          ]
        }
      ],
      "source": [
        "print(\"8 Features\")\n",
        "print(\"Accuracy:\",metrics.accuracy_score(y_test, y_pred8))\n",
        "print(\"Precision:\",metrics.precision_score(y_test, y_pred8))\n",
        "print(\"Recall:\",metrics.recall_score(y_test, y_pred8))"
      ]
    },
    {
      "cell_type": "code",
      "execution_count": 36,
      "id": "b1d22269-39a5-49c3-a96e-03891b21fe24",
      "metadata": {
        "tags": [],
        "id": "b1d22269-39a5-49c3-a96e-03891b21fe24"
      },
      "outputs": [],
      "source": [
        "lr9 = LogisticRegression(max_iter=700)\n",
        "x_select9 = [\"ol_boarding\", \"entertainment\", \"class\", \"leg_room\", \"wifi\", \"distance\", \"checkin\", \"baggage\", \"seat\"]\n",
        "log_model9 = lr9.fit(x_train[x_select9], y_train)\n",
        "y_pred9=log_model9.predict(x_test[x_select9])"
      ]
    },
    {
      "cell_type": "code",
      "execution_count": 64,
      "id": "9d318bc4-2628-4a15-b33c-cf4fd5fd250f",
      "metadata": {
        "tags": [],
        "colab": {
          "base_uri": "https://localhost:8080/"
        },
        "id": "9d318bc4-2628-4a15-b33c-cf4fd5fd250f",
        "outputId": "0cb2fe31-7614-40b2-d3f8-54f207476325"
      },
      "outputs": [
        {
          "output_type": "stream",
          "name": "stdout",
          "text": [
            "9 Features\n",
            "Accuracy: 0.8365932542738334\n",
            "Precision: 0.8268462610311194\n",
            "Recall: 0.7890257955854978\n"
          ]
        }
      ],
      "source": [
        "print(\"9 Features\")\n",
        "print(\"Accuracy:\",metrics.accuracy_score(y_test, y_pred9))\n",
        "print(\"Precision:\",metrics.precision_score(y_test, y_pred9))\n",
        "print(\"Recall:\",metrics.recall_score(y_test, y_pred9))"
      ]
    },
    {
      "cell_type": "code",
      "execution_count": 38,
      "metadata": {
        "tags": [],
        "id": "Fvm48gQuhpBG"
      },
      "outputs": [],
      "source": [
        "lr10 = LogisticRegression(max_iter=700)\n",
        "x_select10 = [\"ol_boarding\", \"entertainment\", \"class\", \"leg_room\", \"wifi\", \"distance\", \"checkin\", \"baggage\", \"seat\", \"cleanliness\"]\n",
        "log_model10 = lr10.fit(x_train[x_select10], y_train)\n",
        "y_pred10=log_model10.predict(x_test[x_select10])"
      ],
      "id": "Fvm48gQuhpBG"
    },
    {
      "cell_type": "code",
      "execution_count": 65,
      "metadata": {
        "tags": [],
        "colab": {
          "base_uri": "https://localhost:8080/"
        },
        "outputId": "f3f61c41-dbfa-4423-cfc4-4bba245ac95e",
        "id": "zNouEKdghpBJ"
      },
      "outputs": [
        {
          "output_type": "stream",
          "name": "stdout",
          "text": [
            "10 Features\n",
            "Accuracy: 0.8372093023255814\n",
            "Precision: 0.8275285594873224\n",
            "Recall: 0.7898235971988299\n"
          ]
        }
      ],
      "source": [
        "print(\"10 Features\")\n",
        "print(\"Accuracy:\",metrics.accuracy_score(y_test, y_pred10))\n",
        "print(\"Precision:\",metrics.precision_score(y_test, y_pred10))\n",
        "print(\"Recall:\",metrics.recall_score(y_test, y_pred10))"
      ],
      "id": "zNouEKdghpBJ"
    },
    {
      "cell_type": "code",
      "execution_count": 40,
      "metadata": {
        "tags": [],
        "id": "c_CPyKiAlygY"
      },
      "outputs": [],
      "source": [
        "lr11 = LogisticRegression(max_iter=700)\n",
        "x_select11 = [\"ol_boarding\", \"entertainment\", \"class\", \"leg_room\", \"wifi\", \"distance\", \"checkin\", \"baggage\", \"seat\", \"cleanliness\", \"ob_service\"]\n",
        "log_model11 = lr11.fit(x_train[x_select11], y_train)\n",
        "y_pred11=log_model11.predict(x_test[x_select11])"
      ],
      "id": "c_CPyKiAlygY"
    },
    {
      "cell_type": "code",
      "execution_count": 66,
      "metadata": {
        "tags": [],
        "colab": {
          "base_uri": "https://localhost:8080/"
        },
        "outputId": "ded28c01-229c-4306-8626-24a4e84df792",
        "id": "ymgRq2G6lygf"
      },
      "outputs": [
        {
          "output_type": "stream",
          "name": "stdout",
          "text": [
            "11 Features\n",
            "Accuracy: 0.8379408593870322\n",
            "Precision: 0.8289914402679568\n",
            "Recall: 0.7898235971988299\n"
          ]
        }
      ],
      "source": [
        "print(\"11 Features\")\n",
        "print(\"Accuracy:\",metrics.accuracy_score(y_test, y_pred11))\n",
        "print(\"Precision:\",metrics.precision_score(y_test, y_pred11))\n",
        "print(\"Recall:\",metrics.recall_score(y_test, y_pred11))"
      ],
      "id": "ymgRq2G6lygf"
    },
    {
      "cell_type": "code",
      "execution_count": 42,
      "metadata": {
        "tags": [],
        "id": "xCNz7WKXmd6f"
      },
      "outputs": [],
      "source": [
        "lr12 = LogisticRegression(max_iter=700)\n",
        "x_select12 = [\"ol_boarding\", \"entertainment\", \"class\", \"leg_room\", \"wifi\", \"distance\", \"checkin\", \"baggage\", \"seat\", \"cleanliness\", \"ob_service\", \"inflight_service\"]\n",
        "log_model12 = lr12.fit(x_train[x_select12], y_train)\n",
        "y_pred12=log_model12.predict(x_test[x_select12])"
      ],
      "id": "xCNz7WKXmd6f"
    },
    {
      "cell_type": "code",
      "execution_count": 67,
      "metadata": {
        "tags": [],
        "colab": {
          "base_uri": "https://localhost:8080/"
        },
        "outputId": "aea64cd4-e46b-4255-8cee-d7754ceadfdc",
        "id": "f4ITuUeXmd6m"
      },
      "outputs": [
        {
          "output_type": "stream",
          "name": "stdout",
          "text": [
            "12 Features\n",
            "Accuracy: 0.8375558293546896\n",
            "Precision: 0.8284040178571429\n",
            "Recall: 0.7895576633277192\n"
          ]
        }
      ],
      "source": [
        "print(\"12 Features\")\n",
        "print(\"Accuracy:\",metrics.accuracy_score(y_test, y_pred12))\n",
        "print(\"Precision:\",metrics.precision_score(y_test, y_pred12))\n",
        "print(\"Recall:\",metrics.recall_score(y_test, y_pred12))"
      ],
      "id": "f4ITuUeXmd6m"
    },
    {
      "cell_type": "code",
      "execution_count": 44,
      "metadata": {
        "tags": [],
        "id": "cOA3bc6TnaXy"
      },
      "outputs": [],
      "source": [
        "lr13 = LogisticRegression(max_iter=700)\n",
        "x_all = [\"ol_boarding\", \"entertainment\", \"class\", \"leg_room\", \"wifi\", \"distance\", \"checkin\", \"baggage\", \"seat\", \"cleanliness\", \"ob_service\", \"inflight_service\", \"food\"]\n",
        "log_model13 = lr13.fit(x_train[x_all], y_train)\n",
        "y_pred13=log_model13.predict(x_test[x_all])"
      ],
      "id": "cOA3bc6TnaXy"
    },
    {
      "cell_type": "code",
      "execution_count": 68,
      "metadata": {
        "tags": [],
        "colab": {
          "base_uri": "https://localhost:8080/"
        },
        "outputId": "96b282d7-7b3f-4cd1-8579-69ec5cfc63e1",
        "id": "B7Bu3AQGnaX6"
      },
      "outputs": [
        {
          "output_type": "stream",
          "name": "stdout",
          "text": [
            "13 Features\n",
            "Accuracy: 0.8380178653935006\n",
            "Precision: 0.8293909480350158\n",
            "Recall: 0.7894690187040156\n"
          ]
        }
      ],
      "source": [
        "print(\"13 Features\")\n",
        "print(\"Accuracy:\",metrics.accuracy_score(y_test, y_pred13))\n",
        "print(\"Precision:\",metrics.precision_score(y_test, y_pred13))\n",
        "print(\"Recall:\",metrics.recall_score(y_test, y_pred13))"
      ],
      "id": "B7Bu3AQGnaX6"
    },
    {
      "cell_type": "code",
      "execution_count": 46,
      "id": "8c9809fa-2c8b-4246-8f31-d30dd4d9e733",
      "metadata": {
        "id": "8c9809fa-2c8b-4246-8f31-d30dd4d9e733"
      },
      "outputs": [],
      "source": [
        "log_models = [log_model1, log_model2, log_model3, log_model4, log_model5, log_model6, log_model7, log_model8, log_model9, log_model10, log_model11, log_model12, log_model13]"
      ]
    },
    {
      "cell_type": "markdown",
      "source": [
        "I wanted to consider a metric other than just accuracy and have a more direct visual comparison of the models, so I plotted each model's ROC curve and calculated the AUC for each. The AUC shows how well the model distinguishes between classes. The plot shows a large improvement in the models' fit from a single feature to about 5 features, at which point the curves become relatively indistinguishable, maxing out at around .83 accuracy and .90 AUC. Given the limitations of logistic regression for capturing more complex relationships with multiple features, the model performed relatively well, but I still wanted to explore SVM to see if I could get a better fit."
      ],
      "metadata": {
        "id": "BEub8GOYuZ_X"
      },
      "id": "BEub8GOYuZ_X"
    },
    {
      "cell_type": "code",
      "execution_count": 69,
      "id": "e7702afe-93b7-416f-9fb4-30ae123228c4",
      "metadata": {
        "colab": {
          "base_uri": "https://localhost:8080/",
          "height": 501
        },
        "id": "e7702afe-93b7-416f-9fb4-30ae123228c4",
        "outputId": "0bba0ffb-2bf9-4b8d-a19c-cefba27162f0"
      },
      "outputs": [
        {
          "output_type": "display_data",
          "data": {
            "text/plain": [
              "<Figure size 864x576 with 1 Axes>"
            ],
            "image/png": "[encoded data removed]"
          },
          "metadata": {
            "needs_background": "light"
          }
        }
      ],
      "source": [
        "\n",
        "plt.figure(figsize=[12,8])\n",
        "\n",
        "for i in range(len(log_models)):\n",
        "    model = log_models[i]\n",
        "    y_pred_prob = model.predict_proba(x_test[x_all[0:i+1]])[::,1]\n",
        "    fpr, tpr, _ = metrics.roc_curve(y_test, y_pred_prob)\n",
        "    plt.plot(fpr, tpr, label=\"model\"+str(i+1)+\"auc=\"+str(metrics.roc_auc_score(y_test, y_pred_prob)))\n",
        "\n",
        "plt.legend(loc=4)\n",
        "plt.title(\"ROC Curves for Logistic Regression Models\")\n",
        "plt.show()"
      ]
    },
    {
      "cell_type": "markdown",
      "source": [
        "I attempted to fit an SVM model using the same train data, but quickly realized for efficiency's sake I needed to make some adjustments. I first reduced the sample size, as I learned SVM is more processing-intensive than logistic regression for large datasets. I also scaled the data, which I learned was necessary through research."
      ],
      "metadata": {
        "id": "hgWrXeZdGpFy"
      },
      "id": "hgWrXeZdGpFy"
    },
    {
      "cell_type": "code",
      "execution_count": 48,
      "id": "448eb60b-ae2f-4e53-b11c-5ef2fe4b1e7b",
      "metadata": {
        "id": "448eb60b-ae2f-4e53-b11c-5ef2fe4b1e7b"
      },
      "outputs": [],
      "source": [
        "df_svm = df_focus[[\"baggage\", \"wifi\", \"leg_room\", \"food\", \"ol_boarding\", \"seat\", \"entertainment\", \"checkin\", \"inflight_service\", \"cleanliness\", \"ob_service\", \"class\", \"distance\", \"satisfaction\"]]\n",
        "df_svm = df_svm.sample(frac=.25, replace=False)\n",
        "\n",
        "sx_train = df_svm[[\"baggage\", \"wifi\", \"leg_room\", \"food\", \"ol_boarding\", \"seat\", \"entertainment\", \"checkin\", \"inflight_service\", \"cleanliness\", \"ob_service\", \"class\", \"distance\"]]\n",
        "sy_train = df_svm[\"satisfaction\"].replace({True: 1, False: 0})\n",
        "\n",
        "scaler = StandardScaler()\n",
        "sx_train_std = scaler.fit_transform(sx_train)"
      ]
    },
    {
      "cell_type": "code",
      "source": [
        "sx_train_std"
      ],
      "metadata": {
        "colab": {
          "base_uri": "https://localhost:8080/"
        },
        "id": "hbv7V_JapEx1",
        "outputId": "c6c336b1-7598-44e0-e518-938c5a4b27aa"
      },
      "id": "hbv7V_JapEx1",
      "execution_count": 49,
      "outputs": [
        {
          "output_type": "execute_result",
          "data": {
            "text/plain": [
              "array([[ 1.15703615,  0.96059643,  1.2505345 , ...,  1.25523752,\n",
              "        -1.01430663, -0.88161949],\n",
              "       [ 0.31353582,  1.71305783, -1.02639505, ...,  0.47746701,\n",
              "         0.0255028 , -0.28743533],\n",
              "       [-0.52996452, -1.29678779, -1.78537157, ..., -0.30030351,\n",
              "         1.06531222,  0.45554621],\n",
              "       ...,\n",
              "       [ 1.15703615, -0.54432639, -1.02639505, ..., -0.30030351,\n",
              "        -1.01430663, -0.53777688],\n",
              "       [ 0.31353582,  0.96059643, -0.26741853, ..., -1.85584454,\n",
              "         0.0255028 , -0.81325313],\n",
              "       [-0.52996452,  0.96059643, -1.02639505, ..., -1.07807403,\n",
              "         1.06531222, -0.9630559 ]])"
            ]
          },
          "metadata": {},
          "execution_count": 49
        }
      ]
    },
    {
      "cell_type": "markdown",
      "source": [
        "I then tried to fit the model using different kernels, or types of hyperplanes that would separate the classes. I used four different linear and non-linear kernels: Linear, RBF, Polynomial, and Sigmoid."
      ],
      "metadata": {
        "id": "yniJJulLHFiD"
      },
      "id": "yniJJulLHFiD"
    },
    {
      "cell_type": "code",
      "execution_count": 50,
      "id": "d455be4f-9c32-488c-8935-d2dfc1c55513",
      "metadata": {
        "colab": {
          "base_uri": "https://localhost:8080/"
        },
        "id": "d455be4f-9c32-488c-8935-d2dfc1c55513",
        "outputId": "63d7a33a-1d1a-4b43-f27e-43f3004f558f"
      },
      "outputs": [
        {
          "output_type": "execute_result",
          "data": {
            "text/plain": [
              "SVC(kernel='linear')"
            ]
          },
          "metadata": {},
          "execution_count": 50
        }
      ],
      "source": [
        "svm1 = svm.SVC(kernel='linear')\n",
        "svm1.fit(sx_train_std, sy_train)"
      ]
    },
    {
      "cell_type": "code",
      "execution_count": 76,
      "id": "263dd2df-cd23-424f-a0b2-c33427a3da48",
      "metadata": {
        "colab": {
          "base_uri": "https://localhost:8080/"
        },
        "id": "263dd2df-cd23-424f-a0b2-c33427a3da48",
        "outputId": "516ac868-8c0c-4475-9f87-93352c4cf9a4"
      },
      "outputs": [
        {
          "output_type": "stream",
          "name": "stdout",
          "text": [
            "Linear Kernel\n",
            "Accuracy: 0.8423302017557369\n",
            "Precision: 0.8455472206193498\n",
            "Recall: 0.7793635316018084\n"
          ]
        }
      ],
      "source": [
        "scaler2 = StandardScaler()\n",
        "x_test_std = scaler.fit_transform(x_test)\n",
        "\n",
        "y_pred_svm1 = svm1.predict(x_test_std)\n",
        "print(\"Linear Kernel\")\n",
        "print(\"Accuracy:\",metrics.accuracy_score(y_test, y_pred_svm1))\n",
        "print(\"Precision:\",metrics.precision_score(y_test, y_pred_svm1))\n",
        "print(\"Recall:\",metrics.recall_score(y_test, y_pred_svm1))"
      ]
    },
    {
      "cell_type": "code",
      "execution_count": 55,
      "id": "0addf1f2-7b79-47c3-aab6-cb56412445b4",
      "metadata": {
        "colab": {
          "base_uri": "https://localhost:8080/"
        },
        "id": "0addf1f2-7b79-47c3-aab6-cb56412445b4",
        "outputId": "3cc2d578-2921-4d6a-db60-4af2566070c5"
      },
      "outputs": [
        {
          "output_type": "execute_result",
          "data": {
            "text/plain": [
              "SVC()"
            ]
          },
          "metadata": {},
          "execution_count": 55
        }
      ],
      "source": [
        "svm2 = svm.SVC(kernel='rbf')\n",
        "svm2.fit(sx_train_std, sy_train)"
      ]
    },
    {
      "cell_type": "code",
      "source": [
        "y_pred_svm2 = svm2.predict(x_test_std)\n",
        "print(\"RBF Kernel\")\n",
        "print(\"Accuracy:\",metrics.accuracy_score(y_test, y_pred_svm2))\n",
        "print(\"Precision:\",metrics.precision_score(y_test, y_pred_svm2))\n",
        "print(\"Recall:\",metrics.recall_score(y_test, y_pred_svm2))"
      ],
      "metadata": {
        "colab": {
          "base_uri": "https://localhost:8080/"
        },
        "id": "d1KbLbJkrdEG",
        "outputId": "c74e03cc-34af-48f6-ea5b-c9b89255757b"
      },
      "id": "d1KbLbJkrdEG",
      "execution_count": 77,
      "outputs": [
        {
          "output_type": "stream",
          "name": "stdout",
          "text": [
            "RBF Kernel\n",
            "Accuracy: 0.9297320190974896\n",
            "Precision: 0.9376967228291058\n",
            "Recall: 0.8978813934934846\n"
          ]
        }
      ]
    },
    {
      "cell_type": "code",
      "execution_count": 70,
      "metadata": {
        "colab": {
          "base_uri": "https://localhost:8080/"
        },
        "outputId": "8cbd235f-6bd9-4a41-cf02-378ef4ee82d7",
        "id": "CmS2SEUrwOX6"
      },
      "outputs": [
        {
          "output_type": "execute_result",
          "data": {
            "text/plain": [
              "SVC(kernel='poly')"
            ]
          },
          "metadata": {},
          "execution_count": 70
        }
      ],
      "source": [
        "svm3 = svm.SVC(kernel='poly')\n",
        "svm3.fit(sx_train_std, sy_train)"
      ],
      "id": "CmS2SEUrwOX6"
    },
    {
      "cell_type": "code",
      "source": [
        "y_pred_svm3 = svm3.predict(x_test_std)\n",
        "print(\"Polynomial Kernel\")\n",
        "print(\"Accuracy:\",metrics.accuracy_score(y_test, y_pred_svm3))\n",
        "print(\"Precision:\",metrics.precision_score(y_test, y_pred_svm3))\n",
        "print(\"Recall:\",metrics.recall_score(y_test, y_pred_svm3))"
      ],
      "metadata": {
        "colab": {
          "base_uri": "https://localhost:8080/"
        },
        "outputId": "7431f6b3-2fe6-4de4-9f4d-6fe4d0df4ca5",
        "id": "MBrvlFJqwOYB"
      },
      "execution_count": 78,
      "outputs": [
        {
          "output_type": "stream",
          "name": "stdout",
          "text": [
            "Polynomial Kernel\n",
            "Accuracy: 0.8922685969505622\n",
            "Precision: 0.9034528678778655\n",
            "Recall: 0.8419466359365304\n"
          ]
        }
      ],
      "id": "MBrvlFJqwOYB"
    },
    {
      "cell_type": "code",
      "execution_count": 72,
      "metadata": {
        "colab": {
          "base_uri": "https://localhost:8080/"
        },
        "outputId": "73a93b72-7dcb-4894-d7a9-aadc29bba06d",
        "id": "owoVuaiuwkJ3"
      },
      "outputs": [
        {
          "output_type": "execute_result",
          "data": {
            "text/plain": [
              "SVC(kernel='sigmoid')"
            ]
          },
          "metadata": {},
          "execution_count": 72
        }
      ],
      "source": [
        "svm4 = svm.SVC(kernel='sigmoid')\n",
        "svm4.fit(sx_train_std, sy_train)"
      ],
      "id": "owoVuaiuwkJ3"
    },
    {
      "cell_type": "code",
      "source": [
        "y_pred_svm4 = svm4.predict(x_test_std)\n",
        "print(\"Sigmoid Kernel\")\n",
        "print(\"Accuracy:\",metrics.accuracy_score(y_test, y_pred_svm4))\n",
        "print(\"Precision:\",metrics.precision_score(y_test, y_pred_svm4))\n",
        "print(\"Recall:\",metrics.recall_score(y_test, y_pred_svm4))"
      ],
      "metadata": {
        "colab": {
          "base_uri": "https://localhost:8080/"
        },
        "outputId": "f277368c-4643-4737-be26-d29d1627fe7c",
        "id": "R8y-Hy96wkJ4"
      },
      "execution_count": 79,
      "outputs": [
        {
          "output_type": "stream",
          "name": "stdout",
          "text": [
            "Sigmoid Kernel\n",
            "Accuracy: 0.7377175419682735\n",
            "Precision: 0.6982521515393487\n",
            "Recall: 0.6976331885471146\n"
          ]
        }
      ],
      "id": "R8y-Hy96wkJ4"
    },
    {
      "cell_type": "markdown",
      "source": [
        "Clearly the most successful fit was the RBF kernel, with an accuracy of almost .93. I then turned to hyperparameters to see if I could improve the fit. First I considered the gamma, which controls how closely the model tries to fit the data. Higher values give a more specific fit, but can lead to overfitting. I tested a wide range of values first and then narrowed down to values close to 0.5 for the most accurate fit."
      ],
      "metadata": {
        "id": "-0Q_oifyyAVz"
      },
      "id": "-0Q_oifyyAVz"
    },
    {
      "cell_type": "code",
      "execution_count": 75,
      "metadata": {
        "colab": {
          "base_uri": "https://localhost:8080/"
        },
        "outputId": "912564a5-0fcb-4892-9a24-b39fb283e223",
        "id": "xhRGYYXzyI4c"
      },
      "outputs": [
        {
          "output_type": "stream",
          "name": "stdout",
          "text": [
            "Gamma: 0.5\n",
            "Accuracy: 0.9402818419836747\n",
            "Precision: 0.9513824457227686\n",
            "Recall: 0.9089619714564312\n",
            "Gamma: 1\n",
            "Accuracy: 0.9206838133374403\n",
            "Precision: 0.9603594608087869\n",
            "Recall: 0.8525839907809591\n",
            "Gamma: 10\n",
            "Accuracy: 0.7172339442476513\n",
            "Precision: 0.9880981899330523\n",
            "Recall: 0.3532488254587359\n",
            "Gamma: 100\n",
            "Accuracy: 0.6908978900354228\n",
            "Precision: 0.994226678821027\n",
            "Recall: 0.2900452087580888\n"
          ]
        }
      ],
      "source": [
        "gammas = [0.5, 1, 10, 100]\n",
        "\n",
        "for gamma in gammas:\n",
        "  svm_rbf = svm.SVC(kernel='rbf', gamma = gamma)\n",
        "  svm_rbf.fit(sx_train_std, sy_train)\n",
        "  y_pred_rbf = svm_rbf.predict(x_test_std)\n",
        "  print(\"Gamma:\",gamma)\n",
        "  print(\"Accuracy:\",metrics.accuracy_score(y_test, y_pred_rbf))\n",
        "  print(\"Precision:\",metrics.precision_score(y_test, y_pred_rbf))\n",
        "  print(\"Recall:\",metrics.recall_score(y_test, y_pred_rbf))"
      ],
      "id": "xhRGYYXzyI4c"
    },
    {
      "cell_type": "code",
      "execution_count": 85,
      "metadata": {
        "colab": {
          "base_uri": "https://localhost:8080/",
          "height": 709
        },
        "outputId": "0c59046e-bcc6-42d5-e3cf-c00b45c24b98",
        "id": "8-PEnZr-5qoM"
      },
      "outputs": [
        {
          "output_type": "stream",
          "name": "stdout",
          "text": [
            "Gamma: 0.425\n",
            "Accuracy: 0.94078238102572\n",
            "Precision: 0.950189446446724\n",
            "Recall: 0.9114440209201312\n",
            "Gamma: 0.45\n",
            "Accuracy: 0.9408978900354228\n",
            "Precision: 0.9508697261287935\n",
            "Recall: 0.9110007978016134\n",
            "Gamma: 0.475\n",
            "Accuracy: 0.9405128600030802\n",
            "Precision: 0.950907743608744\n",
            "Recall: 0.910025706940874\n"
          ]
        },
        {
          "output_type": "display_data",
          "data": {
            "text/plain": [
              "<Figure size 864x576 with 1 Axes>"
            ],
            "image/png": "[encoded data removed]"
          },
          "metadata": {
            "needs_background": "light"
          }
        }
      ],
      "source": [
        "gammas = [0.425, 0.45, 0.475]\n",
        "\n",
        "plt.figure(figsize=[12,8])\n",
        "\n",
        "for gamma in gammas:\n",
        "  svm_rbf = svm.SVC(kernel='rbf', gamma = gamma)\n",
        "  svm_rbf.fit(sx_train_std, sy_train)\n",
        "  y_pred_rbf = svm_rbf.predict(x_test_std)\n",
        "  print(\"Gamma:\",gamma)\n",
        "  print(\"Accuracy:\",metrics.accuracy_score(y_test, y_pred_rbf))\n",
        "  print(\"Precision:\",metrics.precision_score(y_test, y_pred_rbf))\n",
        "  print(\"Recall:\",metrics.recall_score(y_test, y_pred_rbf))\n",
        "  fpr, tpr, _ = metrics.roc_curve(y_test, y_pred_rbf)\n",
        "  plt.plot(fpr, tpr, label=\"gamma \"+str(gamma)+\"auc=\"+str(metrics.roc_auc_score(y_test, y_pred_rbf)))\n",
        "\n",
        "plt.legend(loc=4)\n",
        "plt.title(\"ROC Curves for SVM with Varying Gamma Values\")\n",
        "plt.show()"
      ],
      "id": "8-PEnZr-5qoM"
    },
    {
      "cell_type": "markdown",
      "source": [
        "I then did the same for C values, which is similar to gamma and controls the smoothness of the decision boundaries. A C value that is too high can also cause overfitting."
      ],
      "metadata": {
        "id": "m0PCeYKc9i9j"
      },
      "id": "m0PCeYKc9i9j"
    },
    {
      "cell_type": "code",
      "source": [
        "cs = [2, 3, 4]\n",
        "\n",
        "plt.figure(figsize=[12,8])\n",
        "\n",
        "for c in cs:\n",
        "  svm_rbf = svm.SVC(kernel='rbf', gamma = 0.45, C = c)\n",
        "  svm_rbf.fit(sx_train_std, sy_train)\n",
        "  y_pred_rbf = svm_rbf.predict(x_test_std)\n",
        "  print(\"C:\",c)\n",
        "  print(\"Accuracy:\",metrics.accuracy_score(y_test, y_pred_rbf))\n",
        "  print(\"Precision:\",metrics.precision_score(y_test, y_pred_rbf))\n",
        "  print(\"Recall:\",metrics.recall_score(y_test, y_pred_rbf))\n",
        "  fpr, tpr, _ = metrics.roc_curve(y_test, y_pred_rbf)\n",
        "  plt.plot(fpr, tpr, label=\"C \"+str(c)+\" auc=\"+str(metrics.roc_auc_score(y_test, y_pred_rbf)))\n",
        "\n",
        "plt.legend(loc=4)\n",
        "plt.title(\"ROC Curves for SVM with Varying C Values\")\n",
        "plt.show()"
      ],
      "metadata": {
        "colab": {
          "base_uri": "https://localhost:8080/",
          "height": 709
        },
        "id": "bZrk6ctQ8pFg",
        "outputId": "6adfa110-de22-40db-9c21-2312499e20f3"
      },
      "id": "bZrk6ctQ8pFg",
      "execution_count": 88,
      "outputs": [
        {
          "output_type": "stream",
          "name": "stdout",
          "text": [
            "C: 2\n",
            "Accuracy: 0.9424380101647929\n",
            "Precision: 0.9484054252199413\n",
            "Recall: 0.9173832107082706\n",
            "C: 3\n",
            "Accuracy: 0.9426690281841984\n",
            "Precision: 0.9465523531557826\n",
            "Recall: 0.9199539047956742\n",
            "C: 4\n",
            "Accuracy: 0.9416294470968736\n",
            "Precision: 0.944874715261959\n",
            "Recall: 0.9192447478060456\n"
          ]
        },
        {
          "output_type": "display_data",
          "data": {
            "text/plain": [
              "<Figure size 864x576 with 1 Axes>"
            ],
            "image/png": "[encoded data removed]"
          },
          "metadata": {
            "needs_background": "light"
          }
        }
      ]
    },
    {
      "cell_type": "markdown",
      "source": [
        "The final, best-fit model was the SVM with RBF kernel, gamma of 0.45, and C of 3"
      ],
      "metadata": {
        "id": "w9GnS4rVCpRr"
      },
      "id": "w9GnS4rVCpRr"
    },
    {
      "cell_type": "markdown",
      "source": [
        "### Conclusions ###\n",
        "\n",
        "As expected, the SVM model did a better job of fitting the data and predicting the test values. The logistic regression model had decent accuracy, precision, and AUC, but as the number of features considered increased, the model's performance leveled out and could not match the fit of SVM, especially after I adjusted the hyperparameters to fine-tune the fit. The process of adding features for the logistic regression model also helped identify which features were most directly related to customer satisfaction; a model with just \"ol_boarding\", \"entertainment\", \"class\", \"leg_room\", and \"wifi\" predicted satisfaction nearly as well as models with many more features. If I were the airline company, I would focus resources on these features to maximize the effect on customer satisfaction.\n",
        "\n",
        "Creating both models allowed me to better understand classification problems and how to approach them using the tools I learned in class. I learned more about preprocessing data and what metrics to use to evaluate my models. I also identified some areas I'd like to further explore, like different ways to encode categorical or ordinal features and multinomial classification problems. Overall I enjoyed the project and appreciated being able to have some creativity with the problem I chose and learn through trial and error."
      ],
      "metadata": {
        "id": "HeYywLrs1RUx"
      },
      "id": "HeYywLrs1RUx"
    },
    {
      "cell_type": "markdown",
      "id": "c981d69b-77a6-4b69-b73a-83758ce3d3bd",
      "metadata": {
        "id": "c981d69b-77a6-4b69-b73a-83758ce3d3bd"
      },
      "source": [
        "Resources used outside of class material:\n",
        "\n",
        "* https://www.datacamp.com/community/tutorials/understanding-logistic-regression-python\n",
        "* https://www.geeksforgeeks.org/drop-rows-from-the-dataframe-based-on-certain-condition-applied-on-a-column/\n",
        "* https://scikit-learn.org/stable/modules/generated/sklearn.linear_model.LogisticRegression.html\n",
        "* https://datatofish.com/correlation-matrix-pandas/\n",
        "* https://scikit-learn.org/stable/modules/svm.html\n",
        "* https://www.geeksforgeeks.org/how-to-randomly-select-rows-from-pandas-dataframe/\n",
        "* https://medium.com/all-things-ai/in-depth-parameter-tuning-for-svc-758215394769"
      ]
    }
  ],
  "metadata": {
    "kernelspec": {
      "display_name": "Python 3 (ipykernel)",
      "language": "python",
      "name": "python3"
    },
    "language_info": {
      "codemirror_mode": {
        "name": "ipython",
        "version": 3
      },
      "file_extension": ".py",
      "mimetype": "text/x-python",
      "name": "python",
      "nbconvert_exporter": "python",
      "pygments_lexer": "ipython3",
      "version": "3.9.6"
    },
    "colab": {
      "name": "Airline Satisfaction.ipynb",
      "provenance": []
    }
  },
  "nbformat": 4,
  "nbformat_minor": 5
}